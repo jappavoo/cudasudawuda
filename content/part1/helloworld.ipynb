{
 "cells": [
  {
   "cell_type": "code",
   "execution_count": 2,
   "id": "847b11a7-2514-45f7-a7ba-5d0529fc83e2",
   "metadata": {
    "editable": true,
    "jupyter": {
     "source_hidden": true
    },
    "slideshow": {
     "slide_type": "skip"
    },
    "tags": [
     "hide_input",
     "remove-input"
    ]
   },
   "outputs": [],
   "source": [
    "import os\n",
    "from IPython.display import Code\n",
    "# Define the desired working directory\n",
    "new_directory = \"../src\"\n",
    "# Change the current working directory\n",
    "os.chdir(new_directory)\n",
    "\n",
    "def displaycode(path, number=True, lang='c', start=None, end=None):\n",
    "    \"\"\"\n",
    "    Display a snippet of the file at `path` in a Jupyter notebook.\n",
    "\n",
    "    Args:\n",
    "      path   – path to the source file\n",
    "      number – if True, prefix each line with its line number\n",
    "      lang   – language for syntax‐highlighting\n",
    "      start  – 1‐based first line to include (inclusive). Defaults to 1.\n",
    "      end    – 1‐based last line to include (inclusive). Defaults to EOF.\n",
    "    \"\"\"\n",
    "    # Read all lines\n",
    "    with open(path, 'r') as f:\n",
    "        all_lines = f.readlines()\n",
    "    total = len(all_lines)\n",
    "\n",
    "    # Normalize start/end to valid 1-based indices\n",
    "    if start is None or start < 1:\n",
    "        start = 1\n",
    "    if end is None or end > total:\n",
    "        end = total\n",
    "    if start > end:\n",
    "        return Code(\"\", language=lang)  # empty if bad range\n",
    "\n",
    "    # Slice the desired block (python slices are 0-based and end-exclusive)\n",
    "    snippet = all_lines[start-1:end]\n",
    "\n",
    "    if number:\n",
    "        # Determine width from the max line number\n",
    "        width = len(str(end))\n",
    "        # Enumerate, but start numbering at `start`\n",
    "        numbered = (\n",
    "            f\"{i:0{width}d}: {line}\"\n",
    "            for i, line in enumerate(snippet, start=start)\n",
    "        )\n",
    "        payload = \"\".join(numbered)\n",
    "    else:\n",
    "        payload = \"\".join(snippet)\n",
    "\n",
    "    return Code(payload, language=lang)"
   ]
  },
  {
   "cell_type": "markdown",
   "id": "0",
   "metadata": {
    "editable": true,
    "slideshow": {
     "slide_type": "slide"
    },
    "tags": []
   },
   "source": [
    "# Hello World\n",
    "\n",
    "Getting started with a simple CUDA 'C' Hello world program."
   ]
  },
  {
   "cell_type": "markdown",
   "id": "ea8aaf19-15be-4109-8d42-cc121f8ae477",
   "metadata": {
    "editable": true,
    "slideshow": {
     "slide_type": "slide"
    },
    "tags": []
   },
   "source": [
    "## Take 1: Host vs Device functions"
   ]
  },
  {
   "cell_type": "markdown",
   "id": "2cdc2ead-2236-4ce4-948f-e98721c7db80",
   "metadata": {
    "editable": true,
    "slideshow": {
     "slide_type": ""
    },
    "tags": []
   },
   "source": [
    "Lets start with a "
   ]
  },
  {
   "cell_type": "markdown",
   "id": "e73a1eb6-2f0f-42ca-abc6-601333fc80fc",
   "metadata": {
    "editable": true,
    "slideshow": {
     "slide_type": "slide"
    },
    "tags": []
   },
   "source": [
    "## Final Version"
   ]
  },
  {
   "cell_type": "code",
   "execution_count": 3,
   "id": "1c50abb7-63e4-4f4e-b536-2376fc4f4f09",
   "metadata": {
    "editable": true,
    "hide_input": true,
    "jupyter": {
     "source_hidden": true
    },
    "slideshow": {
     "slide_type": ""
    },
    "tags": [
     "remove-input"
    ]
   },
   "outputs": [
    {
     "data": {
      "text/html": [
       "<style>pre { line-height: 125%; }\n",
       "td.linenos .normal { color: inherit; background-color: transparent; padding-left: 5px; padding-right: 5px; }\n",
       "span.linenos { color: inherit; background-color: transparent; padding-left: 5px; padding-right: 5px; }\n",
       "td.linenos .special { color: #000000; background-color: #ffffc0; padding-left: 5px; padding-right: 5px; }\n",
       "span.linenos.special { color: #000000; background-color: #ffffc0; padding-left: 5px; padding-right: 5px; }\n",
       ".output_html .hll { background-color: #ffffcc }\n",
       ".output_html { background: #f8f8f8; }\n",
       ".output_html .c { color: #3D7B7B; font-style: italic } /* Comment */\n",
       ".output_html .err { border: 1px solid #F00 } /* Error */\n",
       ".output_html .k { color: #008000; font-weight: bold } /* Keyword */\n",
       ".output_html .o { color: #666 } /* Operator */\n",
       ".output_html .ch { color: #3D7B7B; font-style: italic } /* Comment.Hashbang */\n",
       ".output_html .cm { color: #3D7B7B; font-style: italic } /* Comment.Multiline */\n",
       ".output_html .cp { color: #9C6500 } /* Comment.Preproc */\n",
       ".output_html .cpf { color: #3D7B7B; font-style: italic } /* Comment.PreprocFile */\n",
       ".output_html .c1 { color: #3D7B7B; font-style: italic } /* Comment.Single */\n",
       ".output_html .cs { color: #3D7B7B; font-style: italic } /* Comment.Special */\n",
       ".output_html .gd { color: #A00000 } /* Generic.Deleted */\n",
       ".output_html .ge { font-style: italic } /* Generic.Emph */\n",
       ".output_html .ges { font-weight: bold; font-style: italic } /* Generic.EmphStrong */\n",
       ".output_html .gr { color: #E40000 } /* Generic.Error */\n",
       ".output_html .gh { color: #000080; font-weight: bold } /* Generic.Heading */\n",
       ".output_html .gi { color: #008400 } /* Generic.Inserted */\n",
       ".output_html .go { color: #717171 } /* Generic.Output */\n",
       ".output_html .gp { color: #000080; font-weight: bold } /* Generic.Prompt */\n",
       ".output_html .gs { font-weight: bold } /* Generic.Strong */\n",
       ".output_html .gu { color: #800080; font-weight: bold } /* Generic.Subheading */\n",
       ".output_html .gt { color: #04D } /* Generic.Traceback */\n",
       ".output_html .kc { color: #008000; font-weight: bold } /* Keyword.Constant */\n",
       ".output_html .kd { color: #008000; font-weight: bold } /* Keyword.Declaration */\n",
       ".output_html .kn { color: #008000; font-weight: bold } /* Keyword.Namespace */\n",
       ".output_html .kp { color: #008000 } /* Keyword.Pseudo */\n",
       ".output_html .kr { color: #008000; font-weight: bold } /* Keyword.Reserved */\n",
       ".output_html .kt { color: #B00040 } /* Keyword.Type */\n",
       ".output_html .m { color: #666 } /* Literal.Number */\n",
       ".output_html .s { color: #BA2121 } /* Literal.String */\n",
       ".output_html .na { color: #687822 } /* Name.Attribute */\n",
       ".output_html .nb { color: #008000 } /* Name.Builtin */\n",
       ".output_html .nc { color: #00F; font-weight: bold } /* Name.Class */\n",
       ".output_html .no { color: #800 } /* Name.Constant */\n",
       ".output_html .nd { color: #A2F } /* Name.Decorator */\n",
       ".output_html .ni { color: #717171; font-weight: bold } /* Name.Entity */\n",
       ".output_html .ne { color: #CB3F38; font-weight: bold } /* Name.Exception */\n",
       ".output_html .nf { color: #00F } /* Name.Function */\n",
       ".output_html .nl { color: #767600 } /* Name.Label */\n",
       ".output_html .nn { color: #00F; font-weight: bold } /* Name.Namespace */\n",
       ".output_html .nt { color: #008000; font-weight: bold } /* Name.Tag */\n",
       ".output_html .nv { color: #19177C } /* Name.Variable */\n",
       ".output_html .ow { color: #A2F; font-weight: bold } /* Operator.Word */\n",
       ".output_html .w { color: #BBB } /* Text.Whitespace */\n",
       ".output_html .mb { color: #666 } /* Literal.Number.Bin */\n",
       ".output_html .mf { color: #666 } /* Literal.Number.Float */\n",
       ".output_html .mh { color: #666 } /* Literal.Number.Hex */\n",
       ".output_html .mi { color: #666 } /* Literal.Number.Integer */\n",
       ".output_html .mo { color: #666 } /* Literal.Number.Oct */\n",
       ".output_html .sa { color: #BA2121 } /* Literal.String.Affix */\n",
       ".output_html .sb { color: #BA2121 } /* Literal.String.Backtick */\n",
       ".output_html .sc { color: #BA2121 } /* Literal.String.Char */\n",
       ".output_html .dl { color: #BA2121 } /* Literal.String.Delimiter */\n",
       ".output_html .sd { color: #BA2121; font-style: italic } /* Literal.String.Doc */\n",
       ".output_html .s2 { color: #BA2121 } /* Literal.String.Double */\n",
       ".output_html .se { color: #AA5D1F; font-weight: bold } /* Literal.String.Escape */\n",
       ".output_html .sh { color: #BA2121 } /* Literal.String.Heredoc */\n",
       ".output_html .si { color: #A45A77; font-weight: bold } /* Literal.String.Interpol */\n",
       ".output_html .sx { color: #008000 } /* Literal.String.Other */\n",
       ".output_html .sr { color: #A45A77 } /* Literal.String.Regex */\n",
       ".output_html .s1 { color: #BA2121 } /* Literal.String.Single */\n",
       ".output_html .ss { color: #19177C } /* Literal.String.Symbol */\n",
       ".output_html .bp { color: #008000 } /* Name.Builtin.Pseudo */\n",
       ".output_html .fm { color: #00F } /* Name.Function.Magic */\n",
       ".output_html .vc { color: #19177C } /* Name.Variable.Class */\n",
       ".output_html .vg { color: #19177C } /* Name.Variable.Global */\n",
       ".output_html .vi { color: #19177C } /* Name.Variable.Instance */\n",
       ".output_html .vm { color: #19177C } /* Name.Variable.Magic */\n",
       ".output_html .il { color: #666 } /* Literal.Number.Integer.Long */</style><div class=\"highlight\"><pre><span></span><span class=\"mo\">01</span><span class=\"o\">:</span><span class=\"w\"> </span><span class=\"err\">#</span><span class=\"n\">include</span><span class=\"w\"> </span><span class=\"o\">&lt;</span><span class=\"n\">stdio</span><span class=\"p\">.</span><span class=\"n\">h</span><span class=\"o\">&gt;</span>\n",
       "<span class=\"mo\">02</span><span class=\"o\">:</span><span class=\"w\"> </span>\n",
       "<span class=\"mo\">03</span><span class=\"o\">:</span><span class=\"w\"> </span><span class=\"n\">__global__</span><span class=\"w\"> </span><span class=\"kt\">void</span><span class=\"w\"> </span>\n",
       "<span class=\"mo\">04</span><span class=\"o\">:</span><span class=\"w\"> </span><span class=\"n\">helloFromGPU</span><span class=\"p\">(</span><span class=\"kt\">void</span><span class=\"p\">)</span>\n",
       "<span class=\"mo\">05</span><span class=\"o\">:</span><span class=\"w\"> </span><span class=\"p\">{</span>\n",
       "<span class=\"mo\">06</span><span class=\"o\">:</span><span class=\"w\">     </span><span class=\"n\">printf</span><span class=\"p\">(</span><span class=\"s\">&quot;Hello from GPU</span><span class=\"se\">\\n</span><span class=\"s\">&quot;</span><span class=\"p\">);</span>\n",
       "<span class=\"mo\">07</span><span class=\"o\">:</span><span class=\"w\"> </span><span class=\"p\">}</span>\n",
       "<span class=\"mi\">08</span><span class=\"o\">:</span><span class=\"w\"> </span>\n",
       "<span class=\"mi\">09</span><span class=\"o\">:</span><span class=\"w\"> </span><span class=\"kt\">int</span><span class=\"w\"> </span>\n",
       "<span class=\"mi\">10</span><span class=\"o\">:</span><span class=\"w\"> </span><span class=\"n\">main</span><span class=\"p\">(</span><span class=\"kt\">void</span><span class=\"p\">)</span>\n",
       "<span class=\"mi\">11</span><span class=\"o\">:</span><span class=\"w\"> </span><span class=\"p\">{</span>\n",
       "<span class=\"mi\">12</span><span class=\"o\">:</span><span class=\"w\">     </span><span class=\"n\">printf</span><span class=\"p\">(</span><span class=\"s\">&quot;Hello from CPU</span><span class=\"se\">\\n</span><span class=\"s\">&quot;</span><span class=\"p\">);</span>\n",
       "<span class=\"mi\">13</span><span class=\"o\">:</span><span class=\"w\">     </span><span class=\"n\">helloFromGPU</span><span class=\"w\"> </span><span class=\"o\">&lt;&lt;&lt;</span><span class=\"w\"> </span><span class=\"mi\">1</span><span class=\"p\">,</span><span class=\"w\"> </span><span class=\"mi\">10</span><span class=\"w\"> </span><span class=\"o\">&gt;&gt;&gt;</span><span class=\"p\">();</span>\n",
       "<span class=\"mi\">14</span><span class=\"o\">:</span><span class=\"w\">     </span><span class=\"n\">cudaDeviceSynchronize</span><span class=\"p\">();</span>\n",
       "<span class=\"mi\">15</span><span class=\"o\">:</span><span class=\"w\">     </span><span class=\"n\">cudaDeviceReset</span><span class=\"p\">();</span>\n",
       "<span class=\"mi\">16</span><span class=\"o\">:</span><span class=\"w\"> </span><span class=\"p\">}</span>\n",
       "</pre></div>\n"
      ],
      "text/latex": [
       "\\begin{Verbatim}[commandchars=\\\\\\{\\}]\n",
       "\\PY{l+m+mo}{01}\\PY{o}{:}\\PY{+w}{ }\\PY{err}{\\PYZsh{}}\\PY{n}{include}\\PY{+w}{ }\\PY{o}{\\PYZlt{}}\\PY{n}{stdio}\\PY{p}{.}\\PY{n}{h}\\PY{o}{\\PYZgt{}}\n",
       "\\PY{l+m+mo}{02}\\PY{o}{:}\\PY{+w}{ }\n",
       "\\PY{l+m+mo}{03}\\PY{o}{:}\\PY{+w}{ }\\PY{n}{\\PYZus{}\\PYZus{}global\\PYZus{}\\PYZus{}}\\PY{+w}{ }\\PY{k+kt}{void}\\PY{+w}{ }\n",
       "\\PY{l+m+mo}{04}\\PY{o}{:}\\PY{+w}{ }\\PY{n}{helloFromGPU}\\PY{p}{(}\\PY{k+kt}{void}\\PY{p}{)}\n",
       "\\PY{l+m+mo}{05}\\PY{o}{:}\\PY{+w}{ }\\PY{p}{\\PYZob{}}\n",
       "\\PY{l+m+mo}{06}\\PY{o}{:}\\PY{+w}{     }\\PY{n}{printf}\\PY{p}{(}\\PY{l+s}{\\PYZdq{}}\\PY{l+s}{Hello from GPU}\\PY{l+s+se}{\\PYZbs{}n}\\PY{l+s}{\\PYZdq{}}\\PY{p}{)}\\PY{p}{;}\n",
       "\\PY{l+m+mo}{07}\\PY{o}{:}\\PY{+w}{ }\\PY{p}{\\PYZcb{}}\n",
       "\\PY{l+m+mi}{08}\\PY{o}{:}\\PY{+w}{ }\n",
       "\\PY{l+m+mi}{09}\\PY{o}{:}\\PY{+w}{ }\\PY{k+kt}{int}\\PY{+w}{ }\n",
       "\\PY{l+m+mi}{10}\\PY{o}{:}\\PY{+w}{ }\\PY{n}{main}\\PY{p}{(}\\PY{k+kt}{void}\\PY{p}{)}\n",
       "\\PY{l+m+mi}{11}\\PY{o}{:}\\PY{+w}{ }\\PY{p}{\\PYZob{}}\n",
       "\\PY{l+m+mi}{12}\\PY{o}{:}\\PY{+w}{     }\\PY{n}{printf}\\PY{p}{(}\\PY{l+s}{\\PYZdq{}}\\PY{l+s}{Hello from CPU}\\PY{l+s+se}{\\PYZbs{}n}\\PY{l+s}{\\PYZdq{}}\\PY{p}{)}\\PY{p}{;}\n",
       "\\PY{l+m+mi}{13}\\PY{o}{:}\\PY{+w}{     }\\PY{n}{helloFromGPU}\\PY{+w}{ }\\PY{o}{\\PYZlt{}}\\PY{o}{\\PYZlt{}}\\PY{o}{\\PYZlt{}}\\PY{+w}{ }\\PY{l+m+mi}{1}\\PY{p}{,}\\PY{+w}{ }\\PY{l+m+mi}{10}\\PY{+w}{ }\\PY{o}{\\PYZgt{}}\\PY{o}{\\PYZgt{}}\\PY{o}{\\PYZgt{}}\\PY{p}{(}\\PY{p}{)}\\PY{p}{;}\n",
       "\\PY{l+m+mi}{14}\\PY{o}{:}\\PY{+w}{     }\\PY{n}{cudaDeviceSynchronize}\\PY{p}{(}\\PY{p}{)}\\PY{p}{;}\n",
       "\\PY{l+m+mi}{15}\\PY{o}{:}\\PY{+w}{     }\\PY{n}{cudaDeviceReset}\\PY{p}{(}\\PY{p}{)}\\PY{p}{;}\n",
       "\\PY{l+m+mi}{16}\\PY{o}{:}\\PY{+w}{ }\\PY{p}{\\PYZcb{}}\n",
       "\\end{Verbatim}\n"
      ],
      "text/plain": [
       "01: #include <stdio.h>\n",
       "02: \n",
       "03: __global__ void \n",
       "04: helloFromGPU(void)\n",
       "05: {\n",
       "06:     printf(\"Hello from GPU\\n\");\n",
       "07: }\n",
       "08: \n",
       "09: int \n",
       "10: main(void)\n",
       "11: {\n",
       "12:     printf(\"Hello from CPU\\n\");\n",
       "13:     helloFromGPU <<< 1, 10 >>>();\n",
       "14:     cudaDeviceSynchronize();\n",
       "15:     cudaDeviceReset();\n",
       "16: }"
      ]
     },
     "execution_count": 3,
     "metadata": {},
     "output_type": "execute_result"
    }
   ],
   "source": [
    "displaycode(\"../src/hello.cu\")"
   ]
  },
  {
   "cell_type": "markdown",
   "id": "c89aad07-a5e0-4acd-80d6-5612d9d89aa2",
   "metadata": {
    "editable": true,
    "slideshow": {
     "slide_type": ""
    },
    "tags": []
   },
   "source": [
    "### Compile and Link"
   ]
  },
  {
   "cell_type": "code",
   "execution_count": 3,
   "id": "d3461164-ec75-45d2-8cb8-e70e50a65adc",
   "metadata": {
    "editable": true,
    "jupyter": {
     "source_hidden": true
    },
    "slideshow": {
     "slide_type": ""
    },
    "tags": [
     "hide_input"
    ]
   },
   "outputs": [
    {
     "name": "stdout",
     "output_type": "stream",
     "text": [
      "nvcc -o hello hello.cu\n"
     ]
    }
   ],
   "source": [
    "!bash -v -c \"nvcc -o hello hello.cu\""
   ]
  },
  {
   "cell_type": "markdown",
   "id": "f29ae1ea-96fe-453c-bdb2-b7f822635f1e",
   "metadata": {},
   "source": [
    "### Run"
   ]
  },
  {
   "cell_type": "code",
   "execution_count": 4,
   "id": "7e1b5f14-6a5c-4fa5-8480-055ed3c5ea6b",
   "metadata": {
    "editable": true,
    "jupyter": {
     "source_hidden": true
    },
    "slideshow": {
     "slide_type": ""
    },
    "tags": [
     "hide_input"
    ]
   },
   "outputs": [
    {
     "name": "stdout",
     "output_type": "stream",
     "text": [
      "./hello\n",
      "Hello from CPU\n"
     ]
    }
   ],
   "source": [
    "!bash -v -c \"./hello\""
   ]
  },
  {
   "cell_type": "markdown",
   "id": "fa98e4eb-158e-4f2a-974c-146f94535a48",
   "metadata": {
    "editable": true,
    "slideshow": {
     "slide_type": ""
    },
    "tags": []
   },
   "source": [
    "#### What's Wrong?"
   ]
  },
  {
   "cell_type": "markdown",
   "id": "3542ac09-30c2-4060-871b-26ffcf99dea5",
   "metadata": {
    "editable": true,
    "slideshow": {
     "slide_type": "fragment"
    },
    "tags": []
   },
   "source": [
    "Wait a second, maybe we'd better check to see that we have a working GPU and CUDA runtime!"
   ]
  },
  {
   "cell_type": "markdown",
   "id": "910864b0-08ab-4c01-a089-e878ca6a8ad3",
   "metadata": {
    "editable": true,
    "slideshow": {
     "slide_type": "slide"
    },
    "tags": []
   },
   "source": [
    "### `nvidia-smi`\n",
    "\n",
    "A Standard way to check the state of CUDA is to run the `nvidia-smi` tool, which, with no arguments, reports the available GPU devices and other helpful info."
   ]
  },
  {
   "cell_type": "code",
   "execution_count": 5,
   "id": "aa5c7c2e-731b-4e7e-8f10-9105bac1d175",
   "metadata": {
    "editable": true,
    "jupyter": {
     "source_hidden": true
    },
    "slideshow": {
     "slide_type": "fragment"
    },
    "tags": [
     "hide_input"
    ]
   },
   "outputs": [
    {
     "name": "stdout",
     "output_type": "stream",
     "text": [
      "nvidia-smi\n",
      "bash: line 1: nvidia-smi: command not found\n"
     ]
    }
   ],
   "source": [
    "!bash -v -c \"nvidia-smi\""
   ]
  },
  {
   "cell_type": "markdown",
   "id": "fad0fcea-07e3-482b-9d45-ad26d491ca75",
   "metadata": {},
   "source": [
    "Well, that does not bode well.  But before we discuss how to get our code running on a GPU, let's use our newfound CUDA programming skills to write code that checks the state of the GPU devices and CUDA for ourselves. "
   ]
  },
  {
   "cell_type": "markdown",
   "id": "d5d300d2-44d7-47c6-bf1b-2b44239fb5cc",
   "metadata": {
    "editable": true,
    "slideshow": {
     "slide_type": "slide"
    },
    "tags": []
   },
   "source": [
    "## gpuinfo.cu"
   ]
  },
  {
   "cell_type": "markdown",
   "id": "c6b65af9-e0b9-473c-8f57-359501f16e3b",
   "metadata": {
    "editable": true,
    "slideshow": {
     "slide_type": "notes"
    },
    "tags": []
   },
   "source": [
    "\n",
    "\n",
    "We will write a little utility that retrieves and displays basic facts about the CUDA environment on the system where we run the binary, as well as information about the GPU devices. Hopefully, this code will help us develop a mental model of the CUDA API and give us a better sense of how to use the documentation.  \n",
    "\n",
    "In the end, the code is straightforward to write once you get a sense for the basic design of the CUDA API. "
   ]
  },
  {
   "cell_type": "markdown",
   "id": "0054587a-655d-4e93-91b4-2cb5f4e79b8c",
   "metadata": {},
   "source": [
    "### cuda_runtime.h"
   ]
  },
  {
   "cell_type": "markdown",
   "id": "0f18a263-6354-4a6d-83ee-c2106601c9f3",
   "metadata": {},
   "source": [
    "CUDA includes many API calls that allow you to query (probe) the hardware and software configuration at runtime so that you can make your code flexible, robust, and self-adapting!  \n",
    "\n",
    "Given that our installed CUDA version is 12.6.3, we can consult the 12.6.3 documentation available at https://docs.nvidia.com/cuda/archive/12.6.3/.  "
   ]
  },
  {
   "cell_type": "markdown",
   "id": "aeccf01a-ae25-420a-9bba-43f62f2a4343",
   "metadata": {},
   "source": [
    "#### `cudaError_t`\n",
    "[documentation link](https://docs.nvidia.com/cuda/archive/12.6.3/cuda-runtime-api/group__CUDART__TYPES.html#group__CUDART__TYPES_1gf599e5b8b829ce7db0f5216928f6ecb6)\n",
    "\n",
    "Most CUDA calls return a value whose type is `cudaError_t`.  As is the case whenever writing good, especially low-level, code, you should always check the return value from a CUDA call and ensure the call was successful, and if not, print out an appropriate error message.   CUDA makes this very easy.  First the values of `cudaError_t` are well documented here [`enum cudaError`](https://docs.nvidia.com/cuda/archive/12.6.3/cuda-runtime-api/group__CUDART__TYPES.html#group__CUDART__TYPES_1g3f51e3575c2178246db0a94a430e0038).  Furthermore, testing for success is easy and translating error numbers to a helpful message is easy too. \n",
    "\n",
    "See also `cudaSuccess` and `cudaGetErrorString` in the documentation.\n",
    "\n",
    "#### Driver, runtime, and device count\n",
    "\n",
    "The three basic CUDA environment facts we will query (using CUDA runtime API calls) are: \n",
    "\n",
    "1. the version the CUDA OS device driver that is installed ([`cudaDriverGetVersion`](https://docs.nvidia.com/cuda/archive/12.6.3/cuda-runtime-api/group__CUDART____VERSION.html#group__CUDART____VERSION_1g8a06ee14a0551606b7c780084d5564ab))\n",
    "2. the version CUDA Runtime software tools and libraries ([`cudaRuntimeVersion`](https://docs.nvidia.com/cuda/archive/12.6.3/cuda-runtime-api/group__CUDART____VERSION.html#group__CUDART____VERSION_1g0e3952c7802fd730432180f1f4a6cdc6\n",
    "3. the number of GPU Devices recognized by CUDA on the system ([`cudaGetDeviceCount`](https://docs.nvidia.com/cuda/archive/12.6.3/cuda-runtime-api/group__CUDART__DEVICE.html#group__CUDART__DEVICE_1g18808e54893cfcaafefeab31a73cc55f))\n",
    "\n",
    "#### Device properties\n",
    "\n",
    "We will end our code with a loop that queries each of the devices to print out some basic properties of each GPU on the system.  We will use the CUDA type [`cudaDeviceProp`](https://docs.nvidia.com/cuda/archive/12.6.3/cuda-runtime-api/structcudaDeviceProp.html#structcudaDeviceProp) and [`cudaGetDeviceProperties`](https://docs.nvidia.com/cuda/archive/12.6.3/cuda-runtime-api/group__CUDART__DEVICE.html#group__CUDART__DEVICE_1g1bf9d625a931d657e08db2b4391170f0API) call.  "
   ]
  },
  {
   "cell_type": "code",
   "execution_count": 6,
   "id": "ab387ff8-419e-4496-974c-8523a0ee147c",
   "metadata": {
    "editable": true,
    "jupyter": {
     "source_hidden": true
    },
    "scrolled": true,
    "slideshow": {
     "slide_type": ""
    },
    "tags": []
   },
   "outputs": [
    {
     "data": {
      "text/html": [
       "<style>pre { line-height: 125%; }\n",
       "td.linenos .normal { color: inherit; background-color: transparent; padding-left: 5px; padding-right: 5px; }\n",
       "span.linenos { color: inherit; background-color: transparent; padding-left: 5px; padding-right: 5px; }\n",
       "td.linenos .special { color: #000000; background-color: #ffffc0; padding-left: 5px; padding-right: 5px; }\n",
       "span.linenos.special { color: #000000; background-color: #ffffc0; padding-left: 5px; padding-right: 5px; }\n",
       ".output_html .hll { background-color: #ffffcc }\n",
       ".output_html { background: #f8f8f8; }\n",
       ".output_html .c { color: #3D7B7B; font-style: italic } /* Comment */\n",
       ".output_html .err { border: 1px solid #F00 } /* Error */\n",
       ".output_html .k { color: #008000; font-weight: bold } /* Keyword */\n",
       ".output_html .o { color: #666 } /* Operator */\n",
       ".output_html .ch { color: #3D7B7B; font-style: italic } /* Comment.Hashbang */\n",
       ".output_html .cm { color: #3D7B7B; font-style: italic } /* Comment.Multiline */\n",
       ".output_html .cp { color: #9C6500 } /* Comment.Preproc */\n",
       ".output_html .cpf { color: #3D7B7B; font-style: italic } /* Comment.PreprocFile */\n",
       ".output_html .c1 { color: #3D7B7B; font-style: italic } /* Comment.Single */\n",
       ".output_html .cs { color: #3D7B7B; font-style: italic } /* Comment.Special */\n",
       ".output_html .gd { color: #A00000 } /* Generic.Deleted */\n",
       ".output_html .ge { font-style: italic } /* Generic.Emph */\n",
       ".output_html .ges { font-weight: bold; font-style: italic } /* Generic.EmphStrong */\n",
       ".output_html .gr { color: #E40000 } /* Generic.Error */\n",
       ".output_html .gh { color: #000080; font-weight: bold } /* Generic.Heading */\n",
       ".output_html .gi { color: #008400 } /* Generic.Inserted */\n",
       ".output_html .go { color: #717171 } /* Generic.Output */\n",
       ".output_html .gp { color: #000080; font-weight: bold } /* Generic.Prompt */\n",
       ".output_html .gs { font-weight: bold } /* Generic.Strong */\n",
       ".output_html .gu { color: #800080; font-weight: bold } /* Generic.Subheading */\n",
       ".output_html .gt { color: #04D } /* Generic.Traceback */\n",
       ".output_html .kc { color: #008000; font-weight: bold } /* Keyword.Constant */\n",
       ".output_html .kd { color: #008000; font-weight: bold } /* Keyword.Declaration */\n",
       ".output_html .kn { color: #008000; font-weight: bold } /* Keyword.Namespace */\n",
       ".output_html .kp { color: #008000 } /* Keyword.Pseudo */\n",
       ".output_html .kr { color: #008000; font-weight: bold } /* Keyword.Reserved */\n",
       ".output_html .kt { color: #B00040 } /* Keyword.Type */\n",
       ".output_html .m { color: #666 } /* Literal.Number */\n",
       ".output_html .s { color: #BA2121 } /* Literal.String */\n",
       ".output_html .na { color: #687822 } /* Name.Attribute */\n",
       ".output_html .nb { color: #008000 } /* Name.Builtin */\n",
       ".output_html .nc { color: #00F; font-weight: bold } /* Name.Class */\n",
       ".output_html .no { color: #800 } /* Name.Constant */\n",
       ".output_html .nd { color: #A2F } /* Name.Decorator */\n",
       ".output_html .ni { color: #717171; font-weight: bold } /* Name.Entity */\n",
       ".output_html .ne { color: #CB3F38; font-weight: bold } /* Name.Exception */\n",
       ".output_html .nf { color: #00F } /* Name.Function */\n",
       ".output_html .nl { color: #767600 } /* Name.Label */\n",
       ".output_html .nn { color: #00F; font-weight: bold } /* Name.Namespace */\n",
       ".output_html .nt { color: #008000; font-weight: bold } /* Name.Tag */\n",
       ".output_html .nv { color: #19177C } /* Name.Variable */\n",
       ".output_html .ow { color: #A2F; font-weight: bold } /* Operator.Word */\n",
       ".output_html .w { color: #BBB } /* Text.Whitespace */\n",
       ".output_html .mb { color: #666 } /* Literal.Number.Bin */\n",
       ".output_html .mf { color: #666 } /* Literal.Number.Float */\n",
       ".output_html .mh { color: #666 } /* Literal.Number.Hex */\n",
       ".output_html .mi { color: #666 } /* Literal.Number.Integer */\n",
       ".output_html .mo { color: #666 } /* Literal.Number.Oct */\n",
       ".output_html .sa { color: #BA2121 } /* Literal.String.Affix */\n",
       ".output_html .sb { color: #BA2121 } /* Literal.String.Backtick */\n",
       ".output_html .sc { color: #BA2121 } /* Literal.String.Char */\n",
       ".output_html .dl { color: #BA2121 } /* Literal.String.Delimiter */\n",
       ".output_html .sd { color: #BA2121; font-style: italic } /* Literal.String.Doc */\n",
       ".output_html .s2 { color: #BA2121 } /* Literal.String.Double */\n",
       ".output_html .se { color: #AA5D1F; font-weight: bold } /* Literal.String.Escape */\n",
       ".output_html .sh { color: #BA2121 } /* Literal.String.Heredoc */\n",
       ".output_html .si { color: #A45A77; font-weight: bold } /* Literal.String.Interpol */\n",
       ".output_html .sx { color: #008000 } /* Literal.String.Other */\n",
       ".output_html .sr { color: #A45A77 } /* Literal.String.Regex */\n",
       ".output_html .s1 { color: #BA2121 } /* Literal.String.Single */\n",
       ".output_html .ss { color: #19177C } /* Literal.String.Symbol */\n",
       ".output_html .bp { color: #008000 } /* Name.Builtin.Pseudo */\n",
       ".output_html .fm { color: #00F } /* Name.Function.Magic */\n",
       ".output_html .vc { color: #19177C } /* Name.Variable.Class */\n",
       ".output_html .vg { color: #19177C } /* Name.Variable.Global */\n",
       ".output_html .vi { color: #19177C } /* Name.Variable.Instance */\n",
       ".output_html .vm { color: #19177C } /* Name.Variable.Magic */\n",
       ".output_html .il { color: #666 } /* Literal.Number.Integer.Long */</style><div class=\"highlight\"><pre><span></span><span class=\"mo\">01</span><span class=\"o\">:</span><span class=\"w\"> </span><span class=\"err\">#</span><span class=\"n\">include</span><span class=\"w\"> </span><span class=\"o\">&lt;</span><span class=\"n\">stdio</span><span class=\"p\">.</span><span class=\"n\">h</span><span class=\"o\">&gt;</span>\n",
       "<span class=\"mo\">02</span><span class=\"o\">:</span><span class=\"w\"> </span><span class=\"err\">#</span><span class=\"n\">include</span><span class=\"w\"> </span><span class=\"o\">&lt;</span><span class=\"n\">cuda_runtime</span><span class=\"p\">.</span><span class=\"n\">h</span><span class=\"o\">&gt;</span>\n",
       "<span class=\"mo\">03</span><span class=\"o\">:</span><span class=\"w\"> </span>\n",
       "<span class=\"mo\">04</span><span class=\"o\">:</span><span class=\"w\"> </span><span class=\"kt\">int</span><span class=\"w\"> </span><span class=\"n\">main</span><span class=\"p\">()</span><span class=\"w\"> </span><span class=\"p\">{</span>\n",
       "<span class=\"mo\">05</span><span class=\"o\">:</span><span class=\"w\">     </span><span class=\"kt\">int</span><span class=\"w\"> </span><span class=\"n\">driverVersion</span><span class=\"p\">;</span>\n",
       "<span class=\"mo\">06</span><span class=\"o\">:</span><span class=\"w\">     </span><span class=\"kt\">int</span><span class=\"w\"> </span><span class=\"n\">deviceCount</span><span class=\"p\">;</span>\n",
       "<span class=\"mo\">07</span><span class=\"o\">:</span><span class=\"w\">     </span><span class=\"kt\">int</span><span class=\"w\"> </span><span class=\"n\">runtimeVersion</span><span class=\"p\">;</span>\n",
       "<span class=\"mi\">08</span><span class=\"o\">:</span><span class=\"w\">     </span><span class=\"n\">cudaError_t</span><span class=\"w\"> </span><span class=\"n\">error_id</span><span class=\"p\">;</span>\n",
       "<span class=\"mi\">09</span><span class=\"o\">:</span><span class=\"w\"> </span>\n",
       "<span class=\"mi\">10</span><span class=\"o\">:</span><span class=\"w\"> </span>\n",
       "<span class=\"mi\">11</span><span class=\"o\">:</span><span class=\"w\">     </span><span class=\"n\">error_id</span><span class=\"w\"> </span><span class=\"o\">=</span><span class=\"w\"> </span><span class=\"n\">cudaDriverGetVersion</span><span class=\"p\">(</span><span class=\"o\">&amp;</span><span class=\"n\">driverVersion</span><span class=\"p\">);</span>\n",
       "<span class=\"mi\">12</span><span class=\"o\">:</span><span class=\"w\">     </span><span class=\"k\">if</span><span class=\"w\"> </span><span class=\"p\">(</span><span class=\"n\">error_id</span><span class=\"w\"> </span><span class=\"o\">==</span><span class=\"w\"> </span><span class=\"n\">cudaSuccess</span><span class=\"p\">)</span><span class=\"w\"> </span><span class=\"p\">{</span>\n",
       "<span class=\"mi\">13</span><span class=\"o\">:</span><span class=\"w\">         </span><span class=\"n\">printf</span><span class=\"p\">(</span><span class=\"s\">&quot;CUDA Driver Version: %d.%d</span><span class=\"se\">\\n</span><span class=\"s\">&quot;</span><span class=\"p\">,</span><span class=\"w\"> </span><span class=\"n\">driverVersion</span><span class=\"o\">/</span><span class=\"mi\">1000</span><span class=\"p\">,</span><span class=\"w\"> </span>\n",
       "<span class=\"mi\">14</span><span class=\"o\">:</span><span class=\"w\">                </span><span class=\"p\">(</span><span class=\"n\">driverVersion</span><span class=\"w\"> </span><span class=\"o\">%</span><span class=\"w\"> </span><span class=\"mi\">100</span><span class=\"p\">)</span><span class=\"w\"> </span><span class=\"o\">/</span><span class=\"w\"> </span><span class=\"mi\">10</span><span class=\"p\">);</span>\n",
       "<span class=\"mi\">15</span><span class=\"o\">:</span><span class=\"w\">     </span><span class=\"p\">}</span><span class=\"w\"> </span><span class=\"k\">else</span><span class=\"w\"> </span><span class=\"p\">{</span>\n",
       "<span class=\"mi\">16</span><span class=\"o\">:</span><span class=\"w\">         </span><span class=\"n\">fprintf</span><span class=\"p\">(</span><span class=\"n\">stderr</span><span class=\"p\">,</span><span class=\"w\"> </span><span class=\"s\">&quot;Error getting CUDA driver version</span><span class=\"se\">\\n</span><span class=\"s\">&quot;</span><span class=\"p\">);</span>\n",
       "<span class=\"mi\">17</span><span class=\"o\">:</span><span class=\"w\">     </span><span class=\"p\">}</span>\n",
       "<span class=\"mi\">18</span><span class=\"o\">:</span><span class=\"w\"> </span>\n",
       "<span class=\"mi\">19</span><span class=\"o\">:</span><span class=\"w\">     </span><span class=\"n\">error_id</span><span class=\"w\"> </span><span class=\"o\">=</span><span class=\"w\"> </span><span class=\"n\">cudaRuntimeGetVersion</span><span class=\"p\">(</span><span class=\"o\">&amp;</span><span class=\"n\">runtimeVersion</span><span class=\"p\">);</span>\n",
       "<span class=\"mi\">20</span><span class=\"o\">:</span><span class=\"w\">     </span><span class=\"k\">if</span><span class=\"w\"> </span><span class=\"p\">(</span><span class=\"n\">error_id</span><span class=\"w\"> </span><span class=\"o\">==</span><span class=\"w\"> </span><span class=\"n\">cudaSuccess</span><span class=\"p\">)</span><span class=\"w\"> </span><span class=\"p\">{</span>\n",
       "<span class=\"mi\">21</span><span class=\"o\">:</span><span class=\"w\">        </span><span class=\"n\">printf</span><span class=\"p\">(</span><span class=\"s\">&quot;CUDA Runtime Version: %d.%d</span><span class=\"se\">\\n</span><span class=\"s\">&quot;</span><span class=\"p\">,</span><span class=\"w\"> </span><span class=\"n\">runtimeVersion</span><span class=\"w\"> </span><span class=\"o\">/</span><span class=\"w\"> </span><span class=\"mi\">1000</span><span class=\"p\">,</span><span class=\"w\"> </span>\n",
       "<span class=\"mi\">22</span><span class=\"o\">:</span><span class=\"w\">               </span><span class=\"p\">(</span><span class=\"n\">runtimeVersion</span><span class=\"w\"> </span><span class=\"o\">%</span><span class=\"w\"> </span><span class=\"mi\">100</span><span class=\"p\">)</span><span class=\"w\"> </span><span class=\"o\">/</span><span class=\"w\"> </span><span class=\"mi\">10</span><span class=\"p\">);</span>\n",
       "<span class=\"mi\">23</span><span class=\"o\">:</span><span class=\"w\">     </span><span class=\"p\">}</span><span class=\"w\"> </span><span class=\"k\">else</span><span class=\"w\"> </span><span class=\"p\">{</span>\n",
       "<span class=\"mi\">24</span><span class=\"o\">:</span><span class=\"w\">        </span><span class=\"n\">fprintf</span><span class=\"p\">(</span><span class=\"n\">stderr</span><span class=\"p\">,</span><span class=\"w\"> </span><span class=\"s\">&quot;Error getting CUDA Runtime Version: %s</span><span class=\"se\">\\n</span><span class=\"s\">&quot;</span><span class=\"p\">,</span><span class=\"w\"> </span>\n",
       "<span class=\"mi\">25</span><span class=\"o\">:</span><span class=\"w\">                </span><span class=\"n\">cudaGetErrorString</span><span class=\"p\">(</span><span class=\"n\">error_id</span><span class=\"p\">));</span>\n",
       "<span class=\"mi\">26</span><span class=\"o\">:</span><span class=\"w\">     </span><span class=\"p\">}</span>\n",
       "<span class=\"mi\">27</span><span class=\"o\">:</span><span class=\"w\"> </span>\n",
       "<span class=\"mi\">28</span><span class=\"o\">:</span><span class=\"w\">     </span><span class=\"n\">error_id</span><span class=\"w\">  </span><span class=\"o\">=</span><span class=\"w\"> </span><span class=\"n\">cudaGetDeviceCount</span><span class=\"p\">(</span><span class=\"o\">&amp;</span><span class=\"n\">deviceCount</span><span class=\"p\">);</span>\n",
       "<span class=\"mi\">29</span><span class=\"o\">:</span><span class=\"w\">     </span><span class=\"k\">if</span><span class=\"w\"> </span><span class=\"p\">(</span><span class=\"n\">error_id</span><span class=\"w\"> </span><span class=\"o\">!=</span><span class=\"w\"> </span><span class=\"n\">cudaSuccess</span><span class=\"p\">)</span><span class=\"w\"> </span><span class=\"p\">{</span>\n",
       "<span class=\"mi\">30</span><span class=\"o\">:</span><span class=\"w\">       </span><span class=\"n\">fprintf</span><span class=\"p\">(</span><span class=\"n\">stderr</span><span class=\"p\">,</span><span class=\"w\"> </span><span class=\"s\">&quot;cudaGetDeviceCount Error:%d and Count:%d </span><span class=\"se\">\\n</span><span class=\"s\">&quot;</span><span class=\"p\">,</span><span class=\"w\"> </span><span class=\"p\">(</span><span class=\"kt\">int</span><span class=\"p\">)</span><span class=\"n\">error_id</span><span class=\"p\">,</span><span class=\"w\"> </span><span class=\"n\">deviceCount</span><span class=\"p\">);</span>\n",
       "<span class=\"mi\">31</span><span class=\"o\">:</span><span class=\"w\">         </span><span class=\"n\">fprintf</span><span class=\"p\">(</span><span class=\"n\">stderr</span><span class=\"p\">,</span><span class=\"w\"> </span><span class=\"s\">&quot;Error: %s</span><span class=\"se\">\\n</span><span class=\"s\">&quot;</span><span class=\"p\">,</span><span class=\"w\"> </span><span class=\"n\">cudaGetErrorString</span><span class=\"p\">(</span><span class=\"n\">error_id</span><span class=\"p\">));</span>\n",
       "<span class=\"mi\">32</span><span class=\"o\">:</span><span class=\"w\">         </span><span class=\"k\">return</span><span class=\"w\"> </span><span class=\"mi\">1</span><span class=\"p\">;</span>\n",
       "<span class=\"mi\">33</span><span class=\"o\">:</span><span class=\"w\">     </span><span class=\"p\">}</span>\n",
       "<span class=\"mi\">34</span><span class=\"o\">:</span><span class=\"w\"> </span>\n",
       "<span class=\"mi\">35</span><span class=\"o\">:</span><span class=\"w\">     </span><span class=\"k\">if</span><span class=\"w\"> </span><span class=\"p\">(</span><span class=\"n\">deviceCount</span><span class=\"w\"> </span><span class=\"o\">==</span><span class=\"w\"> </span><span class=\"mi\">0</span><span class=\"p\">)</span><span class=\"w\"> </span><span class=\"p\">{</span>\n",
       "<span class=\"mi\">36</span><span class=\"o\">:</span><span class=\"w\">         </span><span class=\"n\">printf</span><span class=\"p\">(</span><span class=\"s\">&quot;No CUDA-capable devices found.</span><span class=\"se\">\\n</span><span class=\"s\">&quot;</span><span class=\"p\">);</span>\n",
       "<span class=\"mi\">37</span><span class=\"o\">:</span><span class=\"w\">     </span><span class=\"p\">}</span><span class=\"w\"> </span><span class=\"k\">else</span><span class=\"w\"> </span><span class=\"p\">{</span>\n",
       "<span class=\"mi\">38</span><span class=\"o\">:</span><span class=\"w\">         </span><span class=\"n\">printf</span><span class=\"p\">(</span><span class=\"s\">&quot;Found %d CUDA-capable device(s):</span><span class=\"se\">\\n</span><span class=\"s\">&quot;</span><span class=\"p\">,</span><span class=\"w\"> </span><span class=\"n\">deviceCount</span><span class=\"p\">);</span>\n",
       "<span class=\"mi\">39</span><span class=\"o\">:</span><span class=\"w\">         </span><span class=\"k\">for</span><span class=\"w\"> </span><span class=\"p\">(</span><span class=\"kt\">int</span><span class=\"w\"> </span><span class=\"n\">i</span><span class=\"w\"> </span><span class=\"o\">=</span><span class=\"w\"> </span><span class=\"mi\">0</span><span class=\"p\">;</span><span class=\"w\"> </span><span class=\"n\">i</span><span class=\"w\"> </span><span class=\"o\">&lt;</span><span class=\"w\"> </span><span class=\"n\">deviceCount</span><span class=\"p\">;</span><span class=\"w\"> </span><span class=\"o\">++</span><span class=\"n\">i</span><span class=\"p\">)</span><span class=\"w\"> </span><span class=\"p\">{</span>\n",
       "<span class=\"mi\">40</span><span class=\"o\">:</span><span class=\"w\">             </span><span class=\"n\">cudaDeviceProp</span><span class=\"w\"> </span><span class=\"n\">deviceProp</span><span class=\"p\">;</span>\n",
       "<span class=\"mi\">41</span><span class=\"o\">:</span><span class=\"w\">             </span><span class=\"n\">cudaGetDeviceProperties</span><span class=\"p\">(</span><span class=\"o\">&amp;</span><span class=\"n\">deviceProp</span><span class=\"p\">,</span><span class=\"w\"> </span><span class=\"n\">i</span><span class=\"p\">);</span>\n",
       "<span class=\"mi\">42</span><span class=\"o\">:</span><span class=\"w\">             </span><span class=\"n\">printf</span><span class=\"p\">(</span><span class=\"s\">&quot;  Device %d: %s</span><span class=\"se\">\\n</span><span class=\"s\">&quot;</span><span class=\"p\">,</span><span class=\"w\"> </span><span class=\"n\">i</span><span class=\"p\">,</span><span class=\"w\"> </span><span class=\"n\">deviceProp</span><span class=\"p\">.</span><span class=\"n\">name</span><span class=\"p\">);</span>\n",
       "<span class=\"mi\">43</span><span class=\"o\">:</span><span class=\"w\">             </span><span class=\"n\">printf</span><span class=\"p\">(</span><span class=\"s\">&quot;    Compute Capability: %d.%d</span><span class=\"se\">\\n</span><span class=\"s\">&quot;</span><span class=\"p\">,</span><span class=\"w\"> </span><span class=\"n\">deviceProp</span><span class=\"p\">.</span><span class=\"n\">major</span><span class=\"p\">,</span><span class=\"w\"> </span><span class=\"n\">deviceProp</span><span class=\"p\">.</span><span class=\"n\">minor</span><span class=\"p\">);</span>\n",
       "<span class=\"mi\">44</span><span class=\"o\">:</span><span class=\"w\">             </span><span class=\"n\">printf</span><span class=\"p\">(</span><span class=\"s\">&quot;    Total Global Memory: %.2f GB</span><span class=\"se\">\\n</span><span class=\"s\">&quot;</span><span class=\"p\">,</span><span class=\"w\"> </span><span class=\"p\">(</span><span class=\"kt\">double</span><span class=\"p\">)</span><span class=\"n\">deviceProp</span><span class=\"p\">.</span><span class=\"n\">totalGlobalMem</span><span class=\"w\"> </span><span class=\"o\">/</span><span class=\"w\"> </span><span class=\"p\">(</span><span class=\"mf\">1024.0</span><span class=\"w\"> </span><span class=\"o\">*</span><span class=\"w\"> </span><span class=\"mf\">1024.0</span><span class=\"w\"> </span><span class=\"o\">*</span><span class=\"w\"> </span><span class=\"mf\">1024.0</span><span class=\"p\">));</span>\n",
       "<span class=\"mi\">45</span><span class=\"o\">:</span><span class=\"w\">             </span><span class=\"n\">printf</span><span class=\"p\">(</span><span class=\"s\">&quot;    Multiprocessors: %d</span><span class=\"se\">\\n</span><span class=\"s\">&quot;</span><span class=\"p\">,</span><span class=\"w\"> </span><span class=\"n\">deviceProp</span><span class=\"p\">.</span><span class=\"n\">multiProcessorCount</span><span class=\"p\">);</span>\n",
       "<span class=\"mi\">46</span><span class=\"o\">:</span><span class=\"w\">             </span><span class=\"n\">printf</span><span class=\"p\">(</span><span class=\"s\">&quot;    Clock Rate: %.2f MHz</span><span class=\"se\">\\n</span><span class=\"s\">&quot;</span><span class=\"p\">,</span><span class=\"w\"> </span><span class=\"p\">(</span><span class=\"kt\">double</span><span class=\"p\">)</span><span class=\"n\">deviceProp</span><span class=\"p\">.</span><span class=\"n\">clockRate</span><span class=\"w\"> </span><span class=\"o\">/</span><span class=\"w\"> </span><span class=\"mf\">1000.0</span><span class=\"p\">);</span>\n",
       "<span class=\"mi\">47</span><span class=\"o\">:</span><span class=\"w\">         </span><span class=\"p\">}</span>\n",
       "<span class=\"mi\">48</span><span class=\"o\">:</span><span class=\"w\">     </span><span class=\"p\">}</span>\n",
       "<span class=\"mi\">49</span><span class=\"o\">:</span><span class=\"w\"> </span>\n",
       "<span class=\"mi\">50</span><span class=\"o\">:</span><span class=\"w\">     </span><span class=\"k\">return</span><span class=\"w\"> </span><span class=\"mi\">0</span><span class=\"p\">;</span>\n",
       "<span class=\"mi\">51</span><span class=\"o\">:</span><span class=\"w\"> </span><span class=\"p\">}</span>\n",
       "<span class=\"mi\">52</span><span class=\"o\">:</span><span class=\"w\"> </span>\n",
       "</pre></div>\n"
      ],
      "text/latex": [
       "\\begin{Verbatim}[commandchars=\\\\\\{\\}]\n",
       "\\PY{l+m+mo}{01}\\PY{o}{:}\\PY{+w}{ }\\PY{err}{\\PYZsh{}}\\PY{n}{include}\\PY{+w}{ }\\PY{o}{\\PYZlt{}}\\PY{n}{stdio}\\PY{p}{.}\\PY{n}{h}\\PY{o}{\\PYZgt{}}\n",
       "\\PY{l+m+mo}{02}\\PY{o}{:}\\PY{+w}{ }\\PY{err}{\\PYZsh{}}\\PY{n}{include}\\PY{+w}{ }\\PY{o}{\\PYZlt{}}\\PY{n}{cuda\\PYZus{}runtime}\\PY{p}{.}\\PY{n}{h}\\PY{o}{\\PYZgt{}}\n",
       "\\PY{l+m+mo}{03}\\PY{o}{:}\\PY{+w}{ }\n",
       "\\PY{l+m+mo}{04}\\PY{o}{:}\\PY{+w}{ }\\PY{k+kt}{int}\\PY{+w}{ }\\PY{n}{main}\\PY{p}{(}\\PY{p}{)}\\PY{+w}{ }\\PY{p}{\\PYZob{}}\n",
       "\\PY{l+m+mo}{05}\\PY{o}{:}\\PY{+w}{     }\\PY{k+kt}{int}\\PY{+w}{ }\\PY{n}{driverVersion}\\PY{p}{;}\n",
       "\\PY{l+m+mo}{06}\\PY{o}{:}\\PY{+w}{     }\\PY{k+kt}{int}\\PY{+w}{ }\\PY{n}{deviceCount}\\PY{p}{;}\n",
       "\\PY{l+m+mo}{07}\\PY{o}{:}\\PY{+w}{     }\\PY{k+kt}{int}\\PY{+w}{ }\\PY{n}{runtimeVersion}\\PY{p}{;}\n",
       "\\PY{l+m+mi}{08}\\PY{o}{:}\\PY{+w}{     }\\PY{n}{cudaError\\PYZus{}t}\\PY{+w}{ }\\PY{n}{error\\PYZus{}id}\\PY{p}{;}\n",
       "\\PY{l+m+mi}{09}\\PY{o}{:}\\PY{+w}{ }\n",
       "\\PY{l+m+mi}{10}\\PY{o}{:}\\PY{+w}{ }\n",
       "\\PY{l+m+mi}{11}\\PY{o}{:}\\PY{+w}{     }\\PY{n}{error\\PYZus{}id}\\PY{+w}{ }\\PY{o}{=}\\PY{+w}{ }\\PY{n}{cudaDriverGetVersion}\\PY{p}{(}\\PY{o}{\\PYZam{}}\\PY{n}{driverVersion}\\PY{p}{)}\\PY{p}{;}\n",
       "\\PY{l+m+mi}{12}\\PY{o}{:}\\PY{+w}{     }\\PY{k}{if}\\PY{+w}{ }\\PY{p}{(}\\PY{n}{error\\PYZus{}id}\\PY{+w}{ }\\PY{o}{=}\\PY{o}{=}\\PY{+w}{ }\\PY{n}{cudaSuccess}\\PY{p}{)}\\PY{+w}{ }\\PY{p}{\\PYZob{}}\n",
       "\\PY{l+m+mi}{13}\\PY{o}{:}\\PY{+w}{         }\\PY{n}{printf}\\PY{p}{(}\\PY{l+s}{\\PYZdq{}}\\PY{l+s}{CUDA Driver Version: \\PYZpc{}d.\\PYZpc{}d}\\PY{l+s+se}{\\PYZbs{}n}\\PY{l+s}{\\PYZdq{}}\\PY{p}{,}\\PY{+w}{ }\\PY{n}{driverVersion}\\PY{o}{/}\\PY{l+m+mi}{1000}\\PY{p}{,}\\PY{+w}{ }\n",
       "\\PY{l+m+mi}{14}\\PY{o}{:}\\PY{+w}{                }\\PY{p}{(}\\PY{n}{driverVersion}\\PY{+w}{ }\\PY{o}{\\PYZpc{}}\\PY{+w}{ }\\PY{l+m+mi}{100}\\PY{p}{)}\\PY{+w}{ }\\PY{o}{/}\\PY{+w}{ }\\PY{l+m+mi}{10}\\PY{p}{)}\\PY{p}{;}\n",
       "\\PY{l+m+mi}{15}\\PY{o}{:}\\PY{+w}{     }\\PY{p}{\\PYZcb{}}\\PY{+w}{ }\\PY{k}{else}\\PY{+w}{ }\\PY{p}{\\PYZob{}}\n",
       "\\PY{l+m+mi}{16}\\PY{o}{:}\\PY{+w}{         }\\PY{n}{fprintf}\\PY{p}{(}\\PY{n}{stderr}\\PY{p}{,}\\PY{+w}{ }\\PY{l+s}{\\PYZdq{}}\\PY{l+s}{Error getting CUDA driver version}\\PY{l+s+se}{\\PYZbs{}n}\\PY{l+s}{\\PYZdq{}}\\PY{p}{)}\\PY{p}{;}\n",
       "\\PY{l+m+mi}{17}\\PY{o}{:}\\PY{+w}{     }\\PY{p}{\\PYZcb{}}\n",
       "\\PY{l+m+mi}{18}\\PY{o}{:}\\PY{+w}{ }\n",
       "\\PY{l+m+mi}{19}\\PY{o}{:}\\PY{+w}{     }\\PY{n}{error\\PYZus{}id}\\PY{+w}{ }\\PY{o}{=}\\PY{+w}{ }\\PY{n}{cudaRuntimeGetVersion}\\PY{p}{(}\\PY{o}{\\PYZam{}}\\PY{n}{runtimeVersion}\\PY{p}{)}\\PY{p}{;}\n",
       "\\PY{l+m+mi}{20}\\PY{o}{:}\\PY{+w}{     }\\PY{k}{if}\\PY{+w}{ }\\PY{p}{(}\\PY{n}{error\\PYZus{}id}\\PY{+w}{ }\\PY{o}{=}\\PY{o}{=}\\PY{+w}{ }\\PY{n}{cudaSuccess}\\PY{p}{)}\\PY{+w}{ }\\PY{p}{\\PYZob{}}\n",
       "\\PY{l+m+mi}{21}\\PY{o}{:}\\PY{+w}{        }\\PY{n}{printf}\\PY{p}{(}\\PY{l+s}{\\PYZdq{}}\\PY{l+s}{CUDA Runtime Version: \\PYZpc{}d.\\PYZpc{}d}\\PY{l+s+se}{\\PYZbs{}n}\\PY{l+s}{\\PYZdq{}}\\PY{p}{,}\\PY{+w}{ }\\PY{n}{runtimeVersion}\\PY{+w}{ }\\PY{o}{/}\\PY{+w}{ }\\PY{l+m+mi}{1000}\\PY{p}{,}\\PY{+w}{ }\n",
       "\\PY{l+m+mi}{22}\\PY{o}{:}\\PY{+w}{               }\\PY{p}{(}\\PY{n}{runtimeVersion}\\PY{+w}{ }\\PY{o}{\\PYZpc{}}\\PY{+w}{ }\\PY{l+m+mi}{100}\\PY{p}{)}\\PY{+w}{ }\\PY{o}{/}\\PY{+w}{ }\\PY{l+m+mi}{10}\\PY{p}{)}\\PY{p}{;}\n",
       "\\PY{l+m+mi}{23}\\PY{o}{:}\\PY{+w}{     }\\PY{p}{\\PYZcb{}}\\PY{+w}{ }\\PY{k}{else}\\PY{+w}{ }\\PY{p}{\\PYZob{}}\n",
       "\\PY{l+m+mi}{24}\\PY{o}{:}\\PY{+w}{        }\\PY{n}{fprintf}\\PY{p}{(}\\PY{n}{stderr}\\PY{p}{,}\\PY{+w}{ }\\PY{l+s}{\\PYZdq{}}\\PY{l+s}{Error getting CUDA Runtime Version: \\PYZpc{}s}\\PY{l+s+se}{\\PYZbs{}n}\\PY{l+s}{\\PYZdq{}}\\PY{p}{,}\\PY{+w}{ }\n",
       "\\PY{l+m+mi}{25}\\PY{o}{:}\\PY{+w}{                }\\PY{n}{cudaGetErrorString}\\PY{p}{(}\\PY{n}{error\\PYZus{}id}\\PY{p}{)}\\PY{p}{)}\\PY{p}{;}\n",
       "\\PY{l+m+mi}{26}\\PY{o}{:}\\PY{+w}{     }\\PY{p}{\\PYZcb{}}\n",
       "\\PY{l+m+mi}{27}\\PY{o}{:}\\PY{+w}{ }\n",
       "\\PY{l+m+mi}{28}\\PY{o}{:}\\PY{+w}{     }\\PY{n}{error\\PYZus{}id}\\PY{+w}{  }\\PY{o}{=}\\PY{+w}{ }\\PY{n}{cudaGetDeviceCount}\\PY{p}{(}\\PY{o}{\\PYZam{}}\\PY{n}{deviceCount}\\PY{p}{)}\\PY{p}{;}\n",
       "\\PY{l+m+mi}{29}\\PY{o}{:}\\PY{+w}{     }\\PY{k}{if}\\PY{+w}{ }\\PY{p}{(}\\PY{n}{error\\PYZus{}id}\\PY{+w}{ }\\PY{o}{!}\\PY{o}{=}\\PY{+w}{ }\\PY{n}{cudaSuccess}\\PY{p}{)}\\PY{+w}{ }\\PY{p}{\\PYZob{}}\n",
       "\\PY{l+m+mi}{30}\\PY{o}{:}\\PY{+w}{       }\\PY{n}{fprintf}\\PY{p}{(}\\PY{n}{stderr}\\PY{p}{,}\\PY{+w}{ }\\PY{l+s}{\\PYZdq{}}\\PY{l+s}{cudaGetDeviceCount Error:\\PYZpc{}d and Count:\\PYZpc{}d }\\PY{l+s+se}{\\PYZbs{}n}\\PY{l+s}{\\PYZdq{}}\\PY{p}{,}\\PY{+w}{ }\\PY{p}{(}\\PY{k+kt}{int}\\PY{p}{)}\\PY{n}{error\\PYZus{}id}\\PY{p}{,}\\PY{+w}{ }\\PY{n}{deviceCount}\\PY{p}{)}\\PY{p}{;}\n",
       "\\PY{l+m+mi}{31}\\PY{o}{:}\\PY{+w}{         }\\PY{n}{fprintf}\\PY{p}{(}\\PY{n}{stderr}\\PY{p}{,}\\PY{+w}{ }\\PY{l+s}{\\PYZdq{}}\\PY{l+s}{Error: \\PYZpc{}s}\\PY{l+s+se}{\\PYZbs{}n}\\PY{l+s}{\\PYZdq{}}\\PY{p}{,}\\PY{+w}{ }\\PY{n}{cudaGetErrorString}\\PY{p}{(}\\PY{n}{error\\PYZus{}id}\\PY{p}{)}\\PY{p}{)}\\PY{p}{;}\n",
       "\\PY{l+m+mi}{32}\\PY{o}{:}\\PY{+w}{         }\\PY{k}{return}\\PY{+w}{ }\\PY{l+m+mi}{1}\\PY{p}{;}\n",
       "\\PY{l+m+mi}{33}\\PY{o}{:}\\PY{+w}{     }\\PY{p}{\\PYZcb{}}\n",
       "\\PY{l+m+mi}{34}\\PY{o}{:}\\PY{+w}{ }\n",
       "\\PY{l+m+mi}{35}\\PY{o}{:}\\PY{+w}{     }\\PY{k}{if}\\PY{+w}{ }\\PY{p}{(}\\PY{n}{deviceCount}\\PY{+w}{ }\\PY{o}{=}\\PY{o}{=}\\PY{+w}{ }\\PY{l+m+mi}{0}\\PY{p}{)}\\PY{+w}{ }\\PY{p}{\\PYZob{}}\n",
       "\\PY{l+m+mi}{36}\\PY{o}{:}\\PY{+w}{         }\\PY{n}{printf}\\PY{p}{(}\\PY{l+s}{\\PYZdq{}}\\PY{l+s}{No CUDA\\PYZhy{}capable devices found.}\\PY{l+s+se}{\\PYZbs{}n}\\PY{l+s}{\\PYZdq{}}\\PY{p}{)}\\PY{p}{;}\n",
       "\\PY{l+m+mi}{37}\\PY{o}{:}\\PY{+w}{     }\\PY{p}{\\PYZcb{}}\\PY{+w}{ }\\PY{k}{else}\\PY{+w}{ }\\PY{p}{\\PYZob{}}\n",
       "\\PY{l+m+mi}{38}\\PY{o}{:}\\PY{+w}{         }\\PY{n}{printf}\\PY{p}{(}\\PY{l+s}{\\PYZdq{}}\\PY{l+s}{Found \\PYZpc{}d CUDA\\PYZhy{}capable device(s):}\\PY{l+s+se}{\\PYZbs{}n}\\PY{l+s}{\\PYZdq{}}\\PY{p}{,}\\PY{+w}{ }\\PY{n}{deviceCount}\\PY{p}{)}\\PY{p}{;}\n",
       "\\PY{l+m+mi}{39}\\PY{o}{:}\\PY{+w}{         }\\PY{k}{for}\\PY{+w}{ }\\PY{p}{(}\\PY{k+kt}{int}\\PY{+w}{ }\\PY{n}{i}\\PY{+w}{ }\\PY{o}{=}\\PY{+w}{ }\\PY{l+m+mi}{0}\\PY{p}{;}\\PY{+w}{ }\\PY{n}{i}\\PY{+w}{ }\\PY{o}{\\PYZlt{}}\\PY{+w}{ }\\PY{n}{deviceCount}\\PY{p}{;}\\PY{+w}{ }\\PY{o}{+}\\PY{o}{+}\\PY{n}{i}\\PY{p}{)}\\PY{+w}{ }\\PY{p}{\\PYZob{}}\n",
       "\\PY{l+m+mi}{40}\\PY{o}{:}\\PY{+w}{             }\\PY{n}{cudaDeviceProp}\\PY{+w}{ }\\PY{n}{deviceProp}\\PY{p}{;}\n",
       "\\PY{l+m+mi}{41}\\PY{o}{:}\\PY{+w}{             }\\PY{n}{cudaGetDeviceProperties}\\PY{p}{(}\\PY{o}{\\PYZam{}}\\PY{n}{deviceProp}\\PY{p}{,}\\PY{+w}{ }\\PY{n}{i}\\PY{p}{)}\\PY{p}{;}\n",
       "\\PY{l+m+mi}{42}\\PY{o}{:}\\PY{+w}{             }\\PY{n}{printf}\\PY{p}{(}\\PY{l+s}{\\PYZdq{}}\\PY{l+s}{  Device \\PYZpc{}d: \\PYZpc{}s}\\PY{l+s+se}{\\PYZbs{}n}\\PY{l+s}{\\PYZdq{}}\\PY{p}{,}\\PY{+w}{ }\\PY{n}{i}\\PY{p}{,}\\PY{+w}{ }\\PY{n}{deviceProp}\\PY{p}{.}\\PY{n}{name}\\PY{p}{)}\\PY{p}{;}\n",
       "\\PY{l+m+mi}{43}\\PY{o}{:}\\PY{+w}{             }\\PY{n}{printf}\\PY{p}{(}\\PY{l+s}{\\PYZdq{}}\\PY{l+s}{    Compute Capability: \\PYZpc{}d.\\PYZpc{}d}\\PY{l+s+se}{\\PYZbs{}n}\\PY{l+s}{\\PYZdq{}}\\PY{p}{,}\\PY{+w}{ }\\PY{n}{deviceProp}\\PY{p}{.}\\PY{n}{major}\\PY{p}{,}\\PY{+w}{ }\\PY{n}{deviceProp}\\PY{p}{.}\\PY{n}{minor}\\PY{p}{)}\\PY{p}{;}\n",
       "\\PY{l+m+mi}{44}\\PY{o}{:}\\PY{+w}{             }\\PY{n}{printf}\\PY{p}{(}\\PY{l+s}{\\PYZdq{}}\\PY{l+s}{    Total Global Memory: \\PYZpc{}.2f GB}\\PY{l+s+se}{\\PYZbs{}n}\\PY{l+s}{\\PYZdq{}}\\PY{p}{,}\\PY{+w}{ }\\PY{p}{(}\\PY{k+kt}{double}\\PY{p}{)}\\PY{n}{deviceProp}\\PY{p}{.}\\PY{n}{totalGlobalMem}\\PY{+w}{ }\\PY{o}{/}\\PY{+w}{ }\\PY{p}{(}\\PY{l+m+mf}{1024.0}\\PY{+w}{ }\\PY{o}{*}\\PY{+w}{ }\\PY{l+m+mf}{1024.0}\\PY{+w}{ }\\PY{o}{*}\\PY{+w}{ }\\PY{l+m+mf}{1024.0}\\PY{p}{)}\\PY{p}{)}\\PY{p}{;}\n",
       "\\PY{l+m+mi}{45}\\PY{o}{:}\\PY{+w}{             }\\PY{n}{printf}\\PY{p}{(}\\PY{l+s}{\\PYZdq{}}\\PY{l+s}{    Multiprocessors: \\PYZpc{}d}\\PY{l+s+se}{\\PYZbs{}n}\\PY{l+s}{\\PYZdq{}}\\PY{p}{,}\\PY{+w}{ }\\PY{n}{deviceProp}\\PY{p}{.}\\PY{n}{multiProcessorCount}\\PY{p}{)}\\PY{p}{;}\n",
       "\\PY{l+m+mi}{46}\\PY{o}{:}\\PY{+w}{             }\\PY{n}{printf}\\PY{p}{(}\\PY{l+s}{\\PYZdq{}}\\PY{l+s}{    Clock Rate: \\PYZpc{}.2f MHz}\\PY{l+s+se}{\\PYZbs{}n}\\PY{l+s}{\\PYZdq{}}\\PY{p}{,}\\PY{+w}{ }\\PY{p}{(}\\PY{k+kt}{double}\\PY{p}{)}\\PY{n}{deviceProp}\\PY{p}{.}\\PY{n}{clockRate}\\PY{+w}{ }\\PY{o}{/}\\PY{+w}{ }\\PY{l+m+mf}{1000.0}\\PY{p}{)}\\PY{p}{;}\n",
       "\\PY{l+m+mi}{47}\\PY{o}{:}\\PY{+w}{         }\\PY{p}{\\PYZcb{}}\n",
       "\\PY{l+m+mi}{48}\\PY{o}{:}\\PY{+w}{     }\\PY{p}{\\PYZcb{}}\n",
       "\\PY{l+m+mi}{49}\\PY{o}{:}\\PY{+w}{ }\n",
       "\\PY{l+m+mi}{50}\\PY{o}{:}\\PY{+w}{     }\\PY{k}{return}\\PY{+w}{ }\\PY{l+m+mi}{0}\\PY{p}{;}\n",
       "\\PY{l+m+mi}{51}\\PY{o}{:}\\PY{+w}{ }\\PY{p}{\\PYZcb{}}\n",
       "\\PY{l+m+mi}{52}\\PY{o}{:}\\PY{+w}{ }\n",
       "\\end{Verbatim}\n"
      ],
      "text/plain": [
       "01: #include <stdio.h>\n",
       "02: #include <cuda_runtime.h>\n",
       "03: \n",
       "04: int main() {\n",
       "05:     int driverVersion;\n",
       "06:     int deviceCount;\n",
       "07:     int runtimeVersion;\n",
       "08:     cudaError_t error_id;\n",
       "09: \n",
       "10: \n",
       "11:     error_id = cudaDriverGetVersion(&driverVersion);\n",
       "12:     if (error_id == cudaSuccess) {\n",
       "13:         printf(\"CUDA Driver Version: %d.%d\\n\", driverVersion/1000, \n",
       "14:                (driverVersion % 100) / 10);\n",
       "15:     } else {\n",
       "16:         fprintf(stderr, \"Error getting CUDA driver version\\n\");\n",
       "17:     }\n",
       "18: \n",
       "19:     error_id = cudaRuntimeGetVersion(&runtimeVersion);\n",
       "20:     if (error_id == cudaSuccess) {\n",
       "21:        printf(\"CUDA Runtime Version: %d.%d\\n\", runtimeVersion / 1000, \n",
       "22:               (runtimeVersion % 100) / 10);\n",
       "23:     } else {\n",
       "24:        fprintf(stderr, \"Error getting CUDA Runtime Version: %s\\n\", \n",
       "25:                cudaGetErrorString(error_id));\n",
       "26:     }\n",
       "27: \n",
       "28:     error_id  = cudaGetDeviceCount(&deviceCount);\n",
       "29:     if (error_id != cudaSuccess) {\n",
       "30:       fprintf(stderr, \"cudaGetDeviceCount Error:%d and Count:%d \\n\", (int)error_id, deviceCount);\n",
       "31:         fprintf(stderr, \"Error: %s\\n\", cudaGetErrorString(error_id));\n",
       "32:         return 1;\n",
       "33:     }\n",
       "34: \n",
       "35:     if (deviceCount == 0) {\n",
       "36:         printf(\"No CUDA-capable devices found.\\n\");\n",
       "37:     } else {\n",
       "38:         printf(\"Found %d CUDA-capable device(s):\\n\", deviceCount);\n",
       "39:         for (int i = 0; i < deviceCount; ++i) {\n",
       "40:             cudaDeviceProp deviceProp;\n",
       "41:             cudaGetDeviceProperties(&deviceProp, i);\n",
       "42:             printf(\"  Device %d: %s\\n\", i, deviceProp.name);\n",
       "43:             printf(\"    Compute Capability: %d.%d\\n\", deviceProp.major, deviceProp.minor);\n",
       "44:             printf(\"    Total Global Memory: %.2f GB\\n\", (double)deviceProp.totalGlobalMem / (1024.0 * 1024.0 * 1024.0));\n",
       "45:             printf(\"    Multiprocessors: %d\\n\", deviceProp.multiProcessorCount);\n",
       "46:             printf(\"    Clock Rate: %.2f MHz\\n\", (double)deviceProp.clockRate / 1000.0);\n",
       "47:         }\n",
       "48:     }\n",
       "49: \n",
       "50:     return 0;\n",
       "51: }\n",
       "52: "
      ]
     },
     "execution_count": 6,
     "metadata": {},
     "output_type": "execute_result"
    }
   ],
   "source": [
    "displaycode(\"../src/gpuinfo.cu\")"
   ]
  },
  {
   "cell_type": "code",
   "execution_count": 4,
   "id": "0cbae932-639f-4d22-9506-c20c1987abdf",
   "metadata": {
    "editable": true,
    "jupyter": {
     "source_hidden": true
    },
    "slideshow": {
     "slide_type": ""
    },
    "tags": []
   },
   "outputs": [
    {
     "name": "stdout",
     "output_type": "stream",
     "text": [
      "nvcc  gpuinfo.cu -o gpuinfo\n"
     ]
    }
   ],
   "source": [
    "%%bash \n",
    "touch gpuinfo.cu\n",
    "make gpuinfo"
   ]
  },
  {
   "cell_type": "code",
   "execution_count": 8,
   "id": "2c74bbea-8e12-4b9d-9c19-7d184c558ce9",
   "metadata": {
    "editable": true,
    "jupyter": {
     "source_hidden": true
    },
    "slideshow": {
     "slide_type": ""
    },
    "tags": []
   },
   "outputs": [
    {
     "name": "stdout",
     "output_type": "stream",
     "text": [
      "CUDA Driver Version: 0.0\n",
      "CUDA Runtime Version: 12.6\n",
      "cudaGetDeviceCount Error:35 and Count:0 \n",
      "Error: CUDA driver version is insufficient for CUDA runtime version\n"
     ]
    }
   ],
   "source": [
    "!./gpuinfo"
   ]
  },
  {
   "cell_type": "markdown",
   "id": "08b1a367-67e3-4e91-b965-09e0a8448d0f",
   "metadata": {
    "editable": true,
    "slideshow": {
     "slide_type": ""
    },
    "tags": []
   },
   "source": [
    "Well there you have it our code can't find an OS Driver install and hence can't find any devices. "
   ]
  },
  {
   "cell_type": "markdown",
   "id": "025563c1-204a-4497-89e1-9464b496806d",
   "metadata": {
    "editable": true,
    "slideshow": {
     "slide_type": ""
    },
    "tags": []
   },
   "source": [
    "## Running CUDA Binaries on the NERC MOC"
   ]
  },
  {
   "cell_type": "markdown",
   "id": "df903f34-332e-4bba-8868-54f38ac8c280",
   "metadata": {
    "editable": true,
    "slideshow": {
     "slide_type": ""
    },
    "tags": []
   },
   "source": [
    "As it turns out, GPU devices, especially Data Center GPUs, can be expensive and highly sought-after resources. To allow us to work with such GPUs, we will use a traditional batch computing model. Specifically, we will develop our code and build our binaries in a container that has the CUDA runtime (software tools and libraries). However, to run our code, we will use a script called `run` that will submit the specified \"command\" as a batch job to a queue of jobs for a specific type of GPU.  By default, `run` will submit your job to a queue that will be serviced by a node that has an [NVIDIA V100]( https://www.nvidia.com/en-sg/data-center/v100/).  There are queues for other GPU types such as [A100](https://www.nvidia.com/en-us/data-center/a100/) and [H100](https://www.nvidia.com/en-us/data-center/h100/) GPUS.  However, you will need to get permission from your instructor for these.  "
   ]
  },
  {
   "cell_type": "markdown",
   "id": "271f8a82-1926-4d3c-aeb3-b02aee74117b",
   "metadata": {},
   "source": [
    "### `run`\n",
    "\n",
    "As part of the CUDASUDAWUDA (csw) resources we have written a simple script that use the [OpenShift](https://www.redhat.com/en/technologies/cloud-computing/openshif) command line interface (CLI) `oc` to generate the necessary `YAML` required to create and submit a batch job via the [Kubernetes Kueue System](https://kueue.sigs.k8s.io/).  By default the `run` will wait until the job has executed on the GPU before it returns.  Upon completion it will print out the output from the command and then cleanup any resources associated with the batch job that was created.  Most of the behavior of `run` can be customzied and over-ridden using environment variables.  Below we will provide some simple examples of using `run`.    If you find a bug or add a feature please be sure to contribute it back to the CUDASUDAWUDA repositories.  "
   ]
  },
  {
   "cell_type": "markdown",
   "id": "680696b7-38e6-4264-bb8a-e8e4e8a20bfb",
   "metadata": {},
   "source": [
    "#### Run the `gpuinfo` and `hello` binaries"
   ]
  },
  {
   "cell_type": "code",
   "execution_count": null,
   "id": "dd895a7a-dfd7-4901-95fd-c6c4025d738c",
   "metadata": {
    "editable": true,
    "slideshow": {
     "slide_type": ""
    },
    "tags": []
   },
   "outputs": [],
   "source": []
  }
 ],
 "metadata": {
  "celltoolbar": "Slideshow",
  "hide_input": true,
  "kernelspec": {
   "display_name": "Python 3 (ipykernel)",
   "language": "python",
   "name": "python3"
  },
  "language_info": {
   "codemirror_mode": {
    "name": "ipython",
    "version": 3
   },
   "file_extension": ".py",
   "mimetype": "text/x-python",
   "name": "python",
   "nbconvert_exporter": "python",
   "pygments_lexer": "ipython3",
   "version": "3.11.11"
  },
  "rise": {
   "enable_chalkboard": true,
   "footer": "CSW -- CUDA SUDA WUDA ",
   "header": "Hello World",
   "rise": {
    "height": "90%",
    "width": "90%"
   },
   "scroll": true,
   "start_slideshow_at": "selected",
   "transition": "none"
  }
 },
 "nbformat": 4,
 "nbformat_minor": 5
}
