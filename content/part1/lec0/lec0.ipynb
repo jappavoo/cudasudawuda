{
 "cells": [
  {
   "cell_type": "markdown",
   "id": "821f9889",
   "metadata": {
    "slideshow": {
     "slide_type": "slide"
    }
   },
   "source": [
    "![001.png](lec0.imgs/001.png)"
   ]
  },
  {
   "cell_type": "markdown",
   "id": "50f07737",
   "metadata": {
    "slideshow": {
     "slide_type": "slide"
    }
   },
   "source": [
    "![002.png](lec0.imgs/002.png)"
   ]
  },
  {
   "cell_type": "markdown",
   "id": "1249fd2f",
   "metadata": {
    "slideshow": {
     "slide_type": "slide"
    }
   },
   "source": [
    "![003.png](lec0.imgs/003.png)"
   ]
  },
  {
   "cell_type": "markdown",
   "id": "d72117b4",
   "metadata": {
    "slideshow": {
     "slide_type": "slide"
    }
   },
   "source": [
    "![004.png](lec0.imgs/004.png)"
   ]
  },
  {
   "cell_type": "markdown",
   "id": "e4e5bc63",
   "metadata": {
    "slideshow": {
     "slide_type": "slide"
    }
   },
   "source": [
    "![005.png](lec0.imgs/005.png)"
   ]
  },
  {
   "cell_type": "markdown",
   "id": "8e1eab63",
   "metadata": {
    "slideshow": {
     "slide_type": "slide"
    }
   },
   "source": [
    "![006.png](lec0.imgs/006.png)"
   ]
  },
  {
   "cell_type": "markdown",
   "id": "7e9b3d05",
   "metadata": {
    "slideshow": {
     "slide_type": "slide"
    }
   },
   "source": [
    "![007.png](lec0.imgs/007.png)"
   ]
  },
  {
   "cell_type": "markdown",
   "id": "7ea00f03",
   "metadata": {
    "slideshow": {
     "slide_type": "slide"
    }
   },
   "source": [
    "![008.png](lec0.imgs/008.png)"
   ]
  },
  {
   "cell_type": "markdown",
   "id": "17a49281",
   "metadata": {
    "slideshow": {
     "slide_type": "slide"
    }
   },
   "source": [
    "![009.png](lec0.imgs/009.png)"
   ]
  },
  {
   "cell_type": "markdown",
   "id": "f8f0734d",
   "metadata": {
    "slideshow": {
     "slide_type": "slide"
    }
   },
   "source": [
    "![010.png](lec0.imgs/010.png)"
   ]
  },
  {
   "cell_type": "markdown",
   "id": "6a9f5279",
   "metadata": {
    "slideshow": {
     "slide_type": "slide"
    }
   },
   "source": [
    "![011.png](lec0.imgs/011.png)"
   ]
  },
  {
   "cell_type": "markdown",
   "id": "5e371f0d",
   "metadata": {
    "slideshow": {
     "slide_type": "slide"
    }
   },
   "source": [
    "![012.png](lec0.imgs/012.png)"
   ]
  },
  {
   "cell_type": "markdown",
   "id": "07edbb69",
   "metadata": {
    "slideshow": {
     "slide_type": "slide"
    }
   },
   "source": [
    "![013.png](lec0.imgs/013.png)"
   ]
  },
  {
   "cell_type": "markdown",
   "id": "28574d71",
   "metadata": {
    "slideshow": {
     "slide_type": "slide"
    }
   },
   "source": [
    "![014.png](lec0.imgs/014.png)"
   ]
  },
  {
   "cell_type": "markdown",
   "id": "943f2e8b",
   "metadata": {
    "slideshow": {
     "slide_type": "slide"
    }
   },
   "source": [
    "![015.png](lec0.imgs/015.png)"
   ]
  },
  {
   "cell_type": "markdown",
   "id": "637019bf",
   "metadata": {
    "slideshow": {
     "slide_type": "slide"
    }
   },
   "source": [
    "![016.png](lec0.imgs/016.png)"
   ]
  }
 ],
 "metadata": {
  "kernelspec": {
   "display_name": "Bash",
   "language": "bash",
   "name": "bash"
  },
  "language_info": {
   "codemirror_mode": "shell",
   "file_extension": ".sh",
   "mimetype": "text/x-sh",
   "name": "bash"
  },
  "rise": {
   "enable_chalkboard": true,
   "scroll": false,
   "start_slideshow_at": "selected",
   "transition": "none"
  }
 },
 "nbformat": 4,
 "nbformat_minor": 5
}
