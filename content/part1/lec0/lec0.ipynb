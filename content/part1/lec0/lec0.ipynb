{
 "cells": [
  {
   "cell_type": "markdown",
   "id": "fc848013",
   "metadata": {
    "slideshow": {
     "slide_type": "slide"
    }
   },
   "source": [
    "![001.png](lec0.imgs/001.png)"
   ]
  },
  {
   "cell_type": "markdown",
   "id": "aaba55fe",
   "metadata": {
    "slideshow": {
     "slide_type": "slide"
    }
   },
   "source": [
    "![002.png](lec0.imgs/002.png)"
   ]
  },
  {
   "cell_type": "markdown",
   "id": "36ac6dc5",
   "metadata": {
    "slideshow": {
     "slide_type": "slide"
    }
   },
   "source": [
    "![003.png](lec0.imgs/003.png)"
   ]
  },
  {
   "cell_type": "markdown",
   "id": "8abd91a8",
   "metadata": {
    "slideshow": {
     "slide_type": "slide"
    }
   },
   "source": [
    "![004.png](lec0.imgs/004.png)"
   ]
  },
  {
   "cell_type": "markdown",
   "id": "378c8754",
   "metadata": {
    "slideshow": {
     "slide_type": "slide"
    }
   },
   "source": [
    "![005.png](lec0.imgs/005.png)"
   ]
  }
 ],
 "metadata": {
  "kernelspec": {
   "display_name": "Bash",
   "language": "bash",
   "name": "bash"
  },
  "language_info": {
   "codemirror_mode": "shell",
   "file_extension": ".sh",
   "mimetype": "text/x-sh",
   "name": "bash"
  }
 },
 "nbformat": 4,
 "nbformat_minor": 5
}
