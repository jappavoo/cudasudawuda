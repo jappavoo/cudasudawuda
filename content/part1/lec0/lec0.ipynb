{
 "cells": [
  {
   "cell_type": "markdown",
   "id": "cf56634a",
   "metadata": {
    "slideshow": {
     "slide_type": "slide"
    }
   },
   "source": [
    "![001.png](lec0.imgs/001.png)"
   ]
  },
  {
   "cell_type": "markdown",
   "id": "0f186093",
   "metadata": {
    "slideshow": {
     "slide_type": "slide"
    }
   },
   "source": [
    "![002.png](lec0.imgs/002.png)"
   ]
  },
  {
   "cell_type": "markdown",
   "id": "3bf0b8b8",
   "metadata": {
    "slideshow": {
     "slide_type": "slide"
    }
   },
   "source": [
    "![003.png](lec0.imgs/003.png)"
   ]
  },
  {
   "cell_type": "markdown",
   "id": "e1024773",
   "metadata": {
    "slideshow": {
     "slide_type": "slide"
    }
   },
   "source": [
    "![004.png](lec0.imgs/004.png)"
   ]
  },
  {
   "cell_type": "markdown",
   "id": "bf2e2bf1",
   "metadata": {
    "slideshow": {
     "slide_type": "slide"
    }
   },
   "source": [
    "![005.png](lec0.imgs/005.png)"
   ]
  },
  {
   "cell_type": "markdown",
   "id": "ae8a64f8",
   "metadata": {
    "slideshow": {
     "slide_type": "slide"
    }
   },
   "source": [
    "![006.png](lec0.imgs/006.png)"
   ]
  },
  {
   "cell_type": "markdown",
   "id": "06a9bc89",
   "metadata": {
    "slideshow": {
     "slide_type": "slide"
    }
   },
   "source": [
    "![007.png](lec0.imgs/007.png)"
   ]
  },
  {
   "cell_type": "markdown",
   "id": "2c8285ad",
   "metadata": {
    "slideshow": {
     "slide_type": "slide"
    }
   },
   "source": [
    "![008.png](lec0.imgs/008.png)"
   ]
  },
  {
   "cell_type": "markdown",
   "id": "9d14afdc",
   "metadata": {
    "slideshow": {
     "slide_type": "slide"
    }
   },
   "source": [
    "![009.png](lec0.imgs/009.png)"
   ]
  },
  {
   "cell_type": "markdown",
   "id": "990d01d7",
   "metadata": {
    "slideshow": {
     "slide_type": "slide"
    }
   },
   "source": [
    "![010.png](lec0.imgs/010.png)"
   ]
  },
  {
   "cell_type": "markdown",
   "id": "3ee7ff3f",
   "metadata": {
    "slideshow": {
     "slide_type": "slide"
    }
   },
   "source": [
    "![011.png](lec0.imgs/011.png)"
   ]
  },
  {
   "cell_type": "markdown",
   "id": "91316bcd",
   "metadata": {
    "slideshow": {
     "slide_type": "slide"
    }
   },
   "source": [
    "![012.png](lec0.imgs/012.png)"
   ]
  }
 ],
 "metadata": {
  "kernelspec": {
   "display_name": "Bash",
   "language": "bash",
   "name": "bash"
  },
  "language_info": {
   "codemirror_mode": "shell",
   "file_extension": ".sh",
   "mimetype": "text/x-sh",
   "name": "bash"
  },
  "rise": {
   "enable_chalkboard": true,
   "scroll": false,
   "start_slideshow_at": "selected",
   "transition": "none"
  }
 },
 "nbformat": 4,
 "nbformat_minor": 5
}
