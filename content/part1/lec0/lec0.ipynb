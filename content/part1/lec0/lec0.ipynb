{
 "cells": [
  {
   "cell_type": "markdown",
   "id": "40b3dd48",
   "metadata": {
    "slideshow": {
     "slide_type": "slide"
    }
   },
   "source": [
    "![001.png](lec0.imgs/001.png)"
   ]
  },
  {
   "cell_type": "markdown",
   "id": "613d1813",
   "metadata": {
    "slideshow": {
     "slide_type": "slide"
    }
   },
   "source": [
    "![002.png](lec0.imgs/002.png)"
   ]
  },
  {
   "cell_type": "markdown",
   "id": "e9c8baaf",
   "metadata": {
    "slideshow": {
     "slide_type": "slide"
    }
   },
   "source": [
    "![003.png](lec0.imgs/003.png)"
   ]
  },
  {
   "cell_type": "markdown",
   "id": "36e9c4bd",
   "metadata": {
    "slideshow": {
     "slide_type": "slide"
    }
   },
   "source": [
    "![004.png](lec0.imgs/004.png)"
   ]
  },
  {
   "cell_type": "markdown",
   "id": "275bdbb9",
   "metadata": {
    "slideshow": {
     "slide_type": "slide"
    }
   },
   "source": [
    "![005.png](lec0.imgs/005.png)"
   ]
  },
  {
   "cell_type": "markdown",
   "id": "6bd0633e",
   "metadata": {
    "slideshow": {
     "slide_type": "slide"
    }
   },
   "source": [
    "![006.png](lec0.imgs/006.png)"
   ]
  },
  {
   "cell_type": "markdown",
   "id": "a80bb331",
   "metadata": {
    "slideshow": {
     "slide_type": "slide"
    }
   },
   "source": [
    "![007.png](lec0.imgs/007.png)"
   ]
  },
  {
   "cell_type": "markdown",
   "id": "fe3aa201",
   "metadata": {
    "slideshow": {
     "slide_type": "slide"
    }
   },
   "source": [
    "![008.png](lec0.imgs/008.png)"
   ]
  },
  {
   "cell_type": "markdown",
   "id": "3b715c96",
   "metadata": {
    "slideshow": {
     "slide_type": "slide"
    }
   },
   "source": [
    "![009.png](lec0.imgs/009.png)"
   ]
  },
  {
   "cell_type": "markdown",
   "id": "1c608292",
   "metadata": {
    "slideshow": {
     "slide_type": "slide"
    }
   },
   "source": [
    "![010.png](lec0.imgs/010.png)"
   ]
  },
  {
   "cell_type": "markdown",
   "id": "694ad864",
   "metadata": {
    "slideshow": {
     "slide_type": "slide"
    }
   },
   "source": [
    "![011.png](lec0.imgs/011.png)"
   ]
  },
  {
   "cell_type": "markdown",
   "id": "52761498",
   "metadata": {
    "slideshow": {
     "slide_type": "slide"
    }
   },
   "source": [
    "![012.png](lec0.imgs/012.png)"
   ]
  },
  {
   "cell_type": "markdown",
   "id": "6a56b20f",
   "metadata": {
    "slideshow": {
     "slide_type": "slide"
    }
   },
   "source": [
    "![013.png](lec0.imgs/013.png)"
   ]
  },
  {
   "cell_type": "markdown",
   "id": "f63d77be",
   "metadata": {
    "slideshow": {
     "slide_type": "slide"
    }
   },
   "source": [
    "![014.png](lec0.imgs/014.png)"
   ]
  },
  {
   "cell_type": "markdown",
   "id": "8c4a6c41",
   "metadata": {
    "slideshow": {
     "slide_type": "slide"
    }
   },
   "source": [
    "![015.png](lec0.imgs/015.png)"
   ]
  }
 ],
 "metadata": {
  "kernelspec": {
   "display_name": "Bash",
   "language": "bash",
   "name": "bash"
  },
  "language_info": {
   "codemirror_mode": "shell",
   "file_extension": ".sh",
   "mimetype": "text/x-sh",
   "name": "bash"
  },
  "rise": {
   "enable_chalkboard": true,
   "scroll": false,
   "start_slideshow_at": "selected",
   "transition": "none"
  }
 },
 "nbformat": 4,
 "nbformat_minor": 5
}
