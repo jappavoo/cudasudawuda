{
 "cells": [
  {
   "cell_type": "markdown",
   "id": "95ac7a55",
   "metadata": {
    "slideshow": {
     "slide_type": "slide"
    }
   },
   "source": [
    "![001.png](lec0.imgs/001.png)"
   ]
  },
  {
   "cell_type": "markdown",
   "id": "9cf3fad5",
   "metadata": {
    "slideshow": {
     "slide_type": "slide"
    }
   },
   "source": [
    "![002.png](lec0.imgs/002.png)"
   ]
  },
  {
   "cell_type": "markdown",
   "id": "ac6cba8c",
   "metadata": {
    "slideshow": {
     "slide_type": "slide"
    }
   },
   "source": [
    "![003.png](lec0.imgs/003.png)"
   ]
  },
  {
   "cell_type": "markdown",
   "id": "d457d354",
   "metadata": {
    "slideshow": {
     "slide_type": "slide"
    }
   },
   "source": [
    "![004.png](lec0.imgs/004.png)"
   ]
  },
  {
   "cell_type": "markdown",
   "id": "1b3f7d0d",
   "metadata": {
    "slideshow": {
     "slide_type": "slide"
    }
   },
   "source": [
    "![005.png](lec0.imgs/005.png)"
   ]
  },
  {
   "cell_type": "markdown",
   "id": "8d713f01",
   "metadata": {
    "slideshow": {
     "slide_type": "slide"
    }
   },
   "source": [
    "![006.png](lec0.imgs/006.png)"
   ]
  },
  {
   "cell_type": "markdown",
   "id": "7af02a5f",
   "metadata": {
    "slideshow": {
     "slide_type": "slide"
    }
   },
   "source": [
    "![007.png](lec0.imgs/007.png)"
   ]
  },
  {
   "cell_type": "markdown",
   "id": "06d1e2f3",
   "metadata": {
    "slideshow": {
     "slide_type": "slide"
    }
   },
   "source": [
    "![008.png](lec0.imgs/008.png)"
   ]
  },
  {
   "cell_type": "markdown",
   "id": "51303279",
   "metadata": {
    "slideshow": {
     "slide_type": "slide"
    }
   },
   "source": [
    "![009.png](lec0.imgs/009.png)"
   ]
  },
  {
   "cell_type": "markdown",
   "id": "fc49e817",
   "metadata": {
    "slideshow": {
     "slide_type": "slide"
    }
   },
   "source": [
    "![010.png](lec0.imgs/010.png)"
   ]
  },
  {
   "cell_type": "markdown",
   "id": "a2ea0ce2",
   "metadata": {
    "slideshow": {
     "slide_type": "slide"
    }
   },
   "source": [
    "![011.png](lec0.imgs/011.png)"
   ]
  },
  {
   "cell_type": "markdown",
   "id": "29e6ac21",
   "metadata": {
    "slideshow": {
     "slide_type": "slide"
    }
   },
   "source": [
    "![012.png](lec0.imgs/012.png)"
   ]
  },
  {
   "cell_type": "markdown",
   "id": "d81c787e",
   "metadata": {
    "slideshow": {
     "slide_type": "slide"
    }
   },
   "source": [
    "![013.png](lec0.imgs/013.png)"
   ]
  },
  {
   "cell_type": "markdown",
   "id": "b7081996",
   "metadata": {
    "slideshow": {
     "slide_type": "slide"
    }
   },
   "source": [
    "![014.png](lec0.imgs/014.png)"
   ]
  },
  {
   "cell_type": "markdown",
   "id": "8dd6e8e9",
   "metadata": {
    "slideshow": {
     "slide_type": "slide"
    }
   },
   "source": [
    "![015.png](lec0.imgs/015.png)"
   ]
  },
  {
   "cell_type": "markdown",
   "id": "8f0d72cd",
   "metadata": {
    "slideshow": {
     "slide_type": "slide"
    }
   },
   "source": [
    "![016.png](lec0.imgs/016.png)"
   ]
  },
  {
   "cell_type": "markdown",
   "id": "28672785",
   "metadata": {
    "slideshow": {
     "slide_type": "slide"
    }
   },
   "source": [
    "![017.png](lec0.imgs/017.png)"
   ]
  }
 ],
 "metadata": {
  "kernelspec": {
   "display_name": "Bash",
   "language": "bash",
   "name": "bash"
  },
  "language_info": {
   "codemirror_mode": "shell",
   "file_extension": ".sh",
   "mimetype": "text/x-sh",
   "name": "bash"
  },
  "rise": {
   "enable_chalkboard": true,
   "scroll": false,
   "start_slideshow_at": "selected",
   "transition": "none"
  }
 },
 "nbformat": 4,
 "nbformat_minor": 5
}
