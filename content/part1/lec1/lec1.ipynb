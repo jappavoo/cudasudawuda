{
 "cells": [
  {
   "cell_type": "markdown",
   "id": "b60f3218",
   "metadata": {
    "slideshow": {
     "slide_type": "slide"
    }
   },
   "source": [
    "![001.png](lec1.imgs/001.png)"
   ]
  },
  {
   "cell_type": "markdown",
   "id": "7afa029c",
   "metadata": {
    "slideshow": {
     "slide_type": "slide"
    }
   },
   "source": [
    "![002.png](lec1.imgs/002.png)"
   ]
  },
  {
   "cell_type": "markdown",
   "id": "86e331f5",
   "metadata": {
    "slideshow": {
     "slide_type": "slide"
    }
   },
   "source": [
    "![003.png](lec1.imgs/003.png)"
   ]
  },
  {
   "cell_type": "markdown",
   "id": "4e41c273",
   "metadata": {
    "slideshow": {
     "slide_type": "slide"
    }
   },
   "source": [
    "![004.png](lec1.imgs/004.png)"
   ]
  },
  {
   "cell_type": "markdown",
   "id": "047c7d82",
   "metadata": {
    "slideshow": {
     "slide_type": "slide"
    }
   },
   "source": [
    "![005.png](lec1.imgs/005.png)"
   ]
  },
  {
   "cell_type": "markdown",
   "id": "89c70fab",
   "metadata": {
    "slideshow": {
     "slide_type": "slide"
    }
   },
   "source": [
    "![006.png](lec1.imgs/006.png)"
   ]
  },
  {
   "cell_type": "markdown",
   "id": "ea07eb60",
   "metadata": {
    "slideshow": {
     "slide_type": "slide"
    }
   },
   "source": [
    "![007.png](lec1.imgs/007.png)"
   ]
  },
  {
   "cell_type": "markdown",
   "id": "19e6b21c",
   "metadata": {
    "slideshow": {
     "slide_type": "slide"
    }
   },
   "source": [
    "![008.png](lec1.imgs/008.png)"
   ]
  },
  {
   "cell_type": "markdown",
   "id": "d9bda001",
   "metadata": {
    "slideshow": {
     "slide_type": "slide"
    }
   },
   "source": [
    "![009.png](lec1.imgs/009.png)"
   ]
  },
  {
   "cell_type": "markdown",
   "id": "bd969be7",
   "metadata": {
    "slideshow": {
     "slide_type": "slide"
    }
   },
   "source": [
    "![010.png](lec1.imgs/010.png)"
   ]
  },
  {
   "cell_type": "markdown",
   "id": "0b95fe81",
   "metadata": {
    "slideshow": {
     "slide_type": "slide"
    }
   },
   "source": [
    "![011.png](lec1.imgs/011.png)"
   ]
  },
  {
   "cell_type": "markdown",
   "id": "14fe03bc",
   "metadata": {
    "slideshow": {
     "slide_type": "slide"
    }
   },
   "source": [
    "![012.png](lec1.imgs/012.png)"
   ]
  },
  {
   "cell_type": "markdown",
   "id": "16c487e2",
   "metadata": {
    "slideshow": {
     "slide_type": "slide"
    }
   },
   "source": [
    "![013.png](lec1.imgs/013.png)"
   ]
  },
  {
   "cell_type": "markdown",
   "id": "81b4fea2",
   "metadata": {
    "slideshow": {
     "slide_type": "slide"
    }
   },
   "source": [
    "![014.png](lec1.imgs/014.png)"
   ]
  },
  {
   "cell_type": "markdown",
   "id": "7d6a7b7c",
   "metadata": {
    "slideshow": {
     "slide_type": "slide"
    }
   },
   "source": [
    "![015.png](lec1.imgs/015.png)"
   ]
  },
  {
   "cell_type": "markdown",
   "id": "df7fef32",
   "metadata": {
    "slideshow": {
     "slide_type": "slide"
    }
   },
   "source": [
    "![016.png](lec1.imgs/016.png)"
   ]
  },
  {
   "cell_type": "markdown",
   "id": "4d222b82",
   "metadata": {
    "slideshow": {
     "slide_type": "slide"
    }
   },
   "source": [
    "![017.png](lec1.imgs/017.png)"
   ]
  },
  {
   "cell_type": "markdown",
   "id": "b6d1f6e4",
   "metadata": {
    "slideshow": {
     "slide_type": "slide"
    }
   },
   "source": [
    "![018.png](lec1.imgs/018.png)"
   ]
  },
  {
   "cell_type": "markdown",
   "id": "6dd934ff",
   "metadata": {
    "slideshow": {
     "slide_type": "slide"
    }
   },
   "source": [
    "![019.png](lec1.imgs/019.png)"
   ]
  },
  {
   "cell_type": "markdown",
   "id": "98fc1679",
   "metadata": {
    "slideshow": {
     "slide_type": "slide"
    }
   },
   "source": [
    "![020.png](lec1.imgs/020.png)"
   ]
  },
  {
   "cell_type": "markdown",
   "id": "ed66234d",
   "metadata": {
    "slideshow": {
     "slide_type": "slide"
    }
   },
   "source": [
    "![021.png](lec1.imgs/021.png)"
   ]
  },
  {
   "cell_type": "markdown",
   "id": "fec6a2c9",
   "metadata": {
    "slideshow": {
     "slide_type": "slide"
    }
   },
   "source": [
    "![022.png](lec1.imgs/022.png)"
   ]
  },
  {
   "cell_type": "markdown",
   "id": "bb321c86",
   "metadata": {
    "slideshow": {
     "slide_type": "slide"
    }
   },
   "source": [
    "![023.png](lec1.imgs/023.png)"
   ]
  },
  {
   "cell_type": "markdown",
   "id": "8acf3011",
   "metadata": {
    "slideshow": {
     "slide_type": "slide"
    }
   },
   "source": [
    "![024.png](lec1.imgs/024.png)"
   ]
  },
  {
   "cell_type": "markdown",
   "id": "12e2177c",
   "metadata": {
    "slideshow": {
     "slide_type": "slide"
    }
   },
   "source": [
    "![025.png](lec1.imgs/025.png)"
   ]
  },
  {
   "cell_type": "markdown",
   "id": "1729b176",
   "metadata": {
    "slideshow": {
     "slide_type": "slide"
    }
   },
   "source": [
    "![026.png](lec1.imgs/026.png)"
   ]
  },
  {
   "cell_type": "markdown",
   "id": "ef7714a4",
   "metadata": {
    "slideshow": {
     "slide_type": "slide"
    }
   },
   "source": [
    "![027.png](lec1.imgs/027.png)"
   ]
  },
  {
   "cell_type": "markdown",
   "id": "af81e8f4",
   "metadata": {
    "slideshow": {
     "slide_type": "slide"
    }
   },
   "source": [
    "![028.png](lec1.imgs/028.png)"
   ]
  },
  {
   "cell_type": "markdown",
   "id": "395d9f89",
   "metadata": {
    "slideshow": {
     "slide_type": "slide"
    }
   },
   "source": [
    "![029.png](lec1.imgs/029.png)"
   ]
  },
  {
   "cell_type": "markdown",
   "id": "447b8184",
   "metadata": {
    "slideshow": {
     "slide_type": "slide"
    }
   },
   "source": [
    "![030.png](lec1.imgs/030.png)"
   ]
  },
  {
   "cell_type": "markdown",
   "id": "fc365ef6",
   "metadata": {
    "slideshow": {
     "slide_type": "slide"
    }
   },
   "source": [
    "![031.png](lec1.imgs/031.png)"
   ]
  },
  {
   "cell_type": "markdown",
   "id": "4174db43",
   "metadata": {
    "slideshow": {
     "slide_type": "slide"
    }
   },
   "source": [
    "![032.png](lec1.imgs/032.png)"
   ]
  },
  {
   "cell_type": "markdown",
   "id": "d7cd3c90",
   "metadata": {
    "slideshow": {
     "slide_type": "slide"
    }
   },
   "source": [
    "![033.png](lec1.imgs/033.png)"
   ]
  },
  {
   "cell_type": "markdown",
   "id": "392aaf06",
   "metadata": {
    "slideshow": {
     "slide_type": "slide"
    }
   },
   "source": [
    "![034.png](lec1.imgs/034.png)"
   ]
  },
  {
   "cell_type": "markdown",
   "id": "ef52431f",
   "metadata": {
    "slideshow": {
     "slide_type": "slide"
    }
   },
   "source": [
    "![035.png](lec1.imgs/035.png)"
   ]
  },
  {
   "cell_type": "markdown",
   "id": "d8b13c0f",
   "metadata": {
    "slideshow": {
     "slide_type": "slide"
    }
   },
   "source": [
    "![036.png](lec1.imgs/036.png)"
   ]
  },
  {
   "cell_type": "markdown",
   "id": "8d30e436",
   "metadata": {
    "slideshow": {
     "slide_type": "slide"
    }
   },
   "source": [
    "![037.png](lec1.imgs/037.png)"
   ]
  },
  {
   "cell_type": "markdown",
   "id": "72999581",
   "metadata": {
    "slideshow": {
     "slide_type": "slide"
    }
   },
   "source": [
    "![038.png](lec1.imgs/038.png)"
   ]
  },
  {
   "cell_type": "markdown",
   "id": "07ba73ca",
   "metadata": {
    "slideshow": {
     "slide_type": "slide"
    }
   },
   "source": [
    "![039.png](lec1.imgs/039.png)"
   ]
  },
  {
   "cell_type": "markdown",
   "id": "3739569e",
   "metadata": {
    "slideshow": {
     "slide_type": "slide"
    }
   },
   "source": [
    "![040.png](lec1.imgs/040.png)"
   ]
  },
  {
   "cell_type": "markdown",
   "id": "62ddecad",
   "metadata": {
    "slideshow": {
     "slide_type": "slide"
    }
   },
   "source": [
    "![041.png](lec1.imgs/041.png)"
   ]
  },
  {
   "cell_type": "markdown",
   "id": "76936cad",
   "metadata": {
    "slideshow": {
     "slide_type": "slide"
    }
   },
   "source": [
    "![042.png](lec1.imgs/042.png)"
   ]
  },
  {
   "cell_type": "markdown",
   "id": "27a735b4",
   "metadata": {
    "slideshow": {
     "slide_type": "slide"
    }
   },
   "source": [
    "![043.png](lec1.imgs/043.png)"
   ]
  },
  {
   "cell_type": "markdown",
   "id": "0c2971e3",
   "metadata": {
    "slideshow": {
     "slide_type": "slide"
    }
   },
   "source": [
    "![044.png](lec1.imgs/044.png)"
   ]
  },
  {
   "cell_type": "markdown",
   "id": "99bf9f1a",
   "metadata": {
    "slideshow": {
     "slide_type": "slide"
    }
   },
   "source": [
    "![045.png](lec1.imgs/045.png)"
   ]
  },
  {
   "cell_type": "markdown",
   "id": "309f74eb",
   "metadata": {
    "slideshow": {
     "slide_type": "slide"
    }
   },
   "source": [
    "![046.png](lec1.imgs/046.png)"
   ]
  },
  {
   "cell_type": "markdown",
   "id": "0f606dfc",
   "metadata": {
    "slideshow": {
     "slide_type": "slide"
    }
   },
   "source": [
    "![047.png](lec1.imgs/047.png)"
   ]
  },
  {
   "cell_type": "markdown",
   "id": "c7b542c8",
   "metadata": {
    "slideshow": {
     "slide_type": "slide"
    }
   },
   "source": [
    "![048.png](lec1.imgs/048.png)"
   ]
  }
 ],
 "metadata": {
  "kernelspec": {
   "display_name": "Bash",
   "language": "bash",
   "name": "bash"
  },
  "language_info": {
   "codemirror_mode": "shell",
   "file_extension": ".sh",
   "mimetype": "text/x-sh",
   "name": "bash"
  },
  "rise": {
   "enable_chalkboard": true,
   "scroll": false,
   "start_slideshow_at": "selected",
   "transition": "none"
  }
 },
 "nbformat": 4,
 "nbformat_minor": 5
}
