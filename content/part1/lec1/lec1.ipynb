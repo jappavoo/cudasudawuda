{
 "cells": [
  {
   "cell_type": "markdown",
   "id": "cd0d2b53",
   "metadata": {
    "slideshow": {
     "slide_type": "slide"
    }
   },
   "source": [
    "![001.png](lec1.imgs/001.png)"
   ]
  },
  {
   "cell_type": "markdown",
   "id": "9f30c968",
   "metadata": {
    "slideshow": {
     "slide_type": "slide"
    }
   },
   "source": [
    "![002.png](lec1.imgs/002.png)"
   ]
  },
  {
   "cell_type": "markdown",
   "id": "5b3c0ed9",
   "metadata": {
    "slideshow": {
     "slide_type": "slide"
    }
   },
   "source": [
    "![003.png](lec1.imgs/003.png)"
   ]
  },
  {
   "cell_type": "markdown",
   "id": "6296ec45",
   "metadata": {
    "slideshow": {
     "slide_type": "slide"
    }
   },
   "source": [
    "![004.png](lec1.imgs/004.png)"
   ]
  },
  {
   "cell_type": "markdown",
   "id": "5f14db05",
   "metadata": {
    "slideshow": {
     "slide_type": "slide"
    }
   },
   "source": [
    "![005.png](lec1.imgs/005.png)"
   ]
  },
  {
   "cell_type": "markdown",
   "id": "cafbf992",
   "metadata": {
    "slideshow": {
     "slide_type": "slide"
    }
   },
   "source": [
    "![006.png](lec1.imgs/006.png)"
   ]
  },
  {
   "cell_type": "markdown",
   "id": "d109943e",
   "metadata": {
    "slideshow": {
     "slide_type": "slide"
    }
   },
   "source": [
    "![007.png](lec1.imgs/007.png)"
   ]
  },
  {
   "cell_type": "markdown",
   "id": "90ba1afe",
   "metadata": {
    "slideshow": {
     "slide_type": "slide"
    }
   },
   "source": [
    "![008.png](lec1.imgs/008.png)"
   ]
  },
  {
   "cell_type": "markdown",
   "id": "256e7b6f",
   "metadata": {
    "slideshow": {
     "slide_type": "slide"
    }
   },
   "source": [
    "![009.png](lec1.imgs/009.png)"
   ]
  },
  {
   "cell_type": "markdown",
   "id": "e5ae02fc",
   "metadata": {
    "slideshow": {
     "slide_type": "slide"
    }
   },
   "source": [
    "![010.png](lec1.imgs/010.png)"
   ]
  },
  {
   "cell_type": "markdown",
   "id": "ff4da22d",
   "metadata": {
    "slideshow": {
     "slide_type": "slide"
    }
   },
   "source": [
    "![011.png](lec1.imgs/011.png)"
   ]
  },
  {
   "cell_type": "markdown",
   "id": "d10bc285",
   "metadata": {
    "slideshow": {
     "slide_type": "slide"
    }
   },
   "source": [
    "![012.png](lec1.imgs/012.png)"
   ]
  },
  {
   "cell_type": "markdown",
   "id": "df5e1e23",
   "metadata": {
    "slideshow": {
     "slide_type": "slide"
    }
   },
   "source": [
    "![013.png](lec1.imgs/013.png)"
   ]
  },
  {
   "cell_type": "markdown",
   "id": "f94554d1",
   "metadata": {
    "slideshow": {
     "slide_type": "slide"
    }
   },
   "source": [
    "![014.png](lec1.imgs/014.png)"
   ]
  },
  {
   "cell_type": "markdown",
   "id": "0b796704",
   "metadata": {
    "slideshow": {
     "slide_type": "slide"
    }
   },
   "source": [
    "![015.png](lec1.imgs/015.png)"
   ]
  },
  {
   "cell_type": "markdown",
   "id": "858eb779",
   "metadata": {
    "slideshow": {
     "slide_type": "slide"
    }
   },
   "source": [
    "![016.png](lec1.imgs/016.png)"
   ]
  },
  {
   "cell_type": "markdown",
   "id": "5bb957a3",
   "metadata": {
    "slideshow": {
     "slide_type": "slide"
    }
   },
   "source": [
    "![017.png](lec1.imgs/017.png)"
   ]
  },
  {
   "cell_type": "markdown",
   "id": "91254934",
   "metadata": {
    "slideshow": {
     "slide_type": "slide"
    }
   },
   "source": [
    "![018.png](lec1.imgs/018.png)"
   ]
  },
  {
   "cell_type": "markdown",
   "id": "921d237e",
   "metadata": {
    "slideshow": {
     "slide_type": "slide"
    }
   },
   "source": [
    "![019.png](lec1.imgs/019.png)"
   ]
  },
  {
   "cell_type": "markdown",
   "id": "31344793",
   "metadata": {
    "slideshow": {
     "slide_type": "slide"
    }
   },
   "source": [
    "![020.png](lec1.imgs/020.png)"
   ]
  },
  {
   "cell_type": "markdown",
   "id": "1e8df8d5",
   "metadata": {
    "slideshow": {
     "slide_type": "slide"
    }
   },
   "source": [
    "![021.png](lec1.imgs/021.png)"
   ]
  },
  {
   "cell_type": "markdown",
   "id": "7778d76c",
   "metadata": {
    "slideshow": {
     "slide_type": "slide"
    }
   },
   "source": [
    "![022.png](lec1.imgs/022.png)"
   ]
  },
  {
   "cell_type": "markdown",
   "id": "fd6f8990",
   "metadata": {
    "slideshow": {
     "slide_type": "slide"
    }
   },
   "source": [
    "![023.png](lec1.imgs/023.png)"
   ]
  },
  {
   "cell_type": "markdown",
   "id": "2ef6e4ec",
   "metadata": {
    "slideshow": {
     "slide_type": "slide"
    }
   },
   "source": [
    "![024.png](lec1.imgs/024.png)"
   ]
  },
  {
   "cell_type": "markdown",
   "id": "065de4af",
   "metadata": {
    "slideshow": {
     "slide_type": "slide"
    }
   },
   "source": [
    "![025.png](lec1.imgs/025.png)"
   ]
  },
  {
   "cell_type": "markdown",
   "id": "74dbc920",
   "metadata": {
    "slideshow": {
     "slide_type": "slide"
    }
   },
   "source": [
    "![026.png](lec1.imgs/026.png)"
   ]
  },
  {
   "cell_type": "markdown",
   "id": "967703d1",
   "metadata": {
    "slideshow": {
     "slide_type": "slide"
    }
   },
   "source": [
    "![027.png](lec1.imgs/027.png)"
   ]
  },
  {
   "cell_type": "markdown",
   "id": "c3e1f9b9",
   "metadata": {
    "slideshow": {
     "slide_type": "slide"
    }
   },
   "source": [
    "![028.png](lec1.imgs/028.png)"
   ]
  },
  {
   "cell_type": "markdown",
   "id": "61daac7d",
   "metadata": {
    "slideshow": {
     "slide_type": "slide"
    }
   },
   "source": [
    "![029.png](lec1.imgs/029.png)"
   ]
  },
  {
   "cell_type": "markdown",
   "id": "56bcd89b",
   "metadata": {
    "slideshow": {
     "slide_type": "slide"
    }
   },
   "source": [
    "![030.png](lec1.imgs/030.png)"
   ]
  },
  {
   "cell_type": "markdown",
   "id": "16049d10",
   "metadata": {
    "slideshow": {
     "slide_type": "slide"
    }
   },
   "source": [
    "![031.png](lec1.imgs/031.png)"
   ]
  },
  {
   "cell_type": "markdown",
   "id": "713c724a",
   "metadata": {
    "slideshow": {
     "slide_type": "slide"
    }
   },
   "source": [
    "![032.png](lec1.imgs/032.png)"
   ]
  },
  {
   "cell_type": "markdown",
   "id": "24f2f6fc",
   "metadata": {
    "slideshow": {
     "slide_type": "slide"
    }
   },
   "source": [
    "![033.png](lec1.imgs/033.png)"
   ]
  },
  {
   "cell_type": "markdown",
   "id": "1cf5d946",
   "metadata": {
    "slideshow": {
     "slide_type": "slide"
    }
   },
   "source": [
    "![034.png](lec1.imgs/034.png)"
   ]
  },
  {
   "cell_type": "markdown",
   "id": "3a0bbe8c",
   "metadata": {
    "slideshow": {
     "slide_type": "slide"
    }
   },
   "source": [
    "![035.png](lec1.imgs/035.png)"
   ]
  },
  {
   "cell_type": "markdown",
   "id": "04da33bc",
   "metadata": {
    "slideshow": {
     "slide_type": "slide"
    }
   },
   "source": [
    "![036.png](lec1.imgs/036.png)"
   ]
  },
  {
   "cell_type": "markdown",
   "id": "b8135c8c",
   "metadata": {
    "slideshow": {
     "slide_type": "slide"
    }
   },
   "source": [
    "![037.png](lec1.imgs/037.png)"
   ]
  },
  {
   "cell_type": "markdown",
   "id": "fe1bba98",
   "metadata": {
    "slideshow": {
     "slide_type": "slide"
    }
   },
   "source": [
    "![038.png](lec1.imgs/038.png)"
   ]
  },
  {
   "cell_type": "markdown",
   "id": "df477577",
   "metadata": {
    "slideshow": {
     "slide_type": "slide"
    }
   },
   "source": [
    "![039.png](lec1.imgs/039.png)"
   ]
  },
  {
   "cell_type": "markdown",
   "id": "2147f3fd",
   "metadata": {
    "slideshow": {
     "slide_type": "slide"
    }
   },
   "source": [
    "![040.png](lec1.imgs/040.png)"
   ]
  },
  {
   "cell_type": "markdown",
   "id": "e13876a3",
   "metadata": {
    "slideshow": {
     "slide_type": "slide"
    }
   },
   "source": [
    "![041.png](lec1.imgs/041.png)"
   ]
  },
  {
   "cell_type": "markdown",
   "id": "cec83e8f",
   "metadata": {
    "slideshow": {
     "slide_type": "slide"
    }
   },
   "source": [
    "![042.png](lec1.imgs/042.png)"
   ]
  },
  {
   "cell_type": "markdown",
   "id": "133448eb",
   "metadata": {
    "slideshow": {
     "slide_type": "slide"
    }
   },
   "source": [
    "![043.png](lec1.imgs/043.png)"
   ]
  },
  {
   "cell_type": "markdown",
   "id": "5a8e5490",
   "metadata": {
    "slideshow": {
     "slide_type": "slide"
    }
   },
   "source": [
    "![044.png](lec1.imgs/044.png)"
   ]
  },
  {
   "cell_type": "markdown",
   "id": "dc4f2942",
   "metadata": {
    "slideshow": {
     "slide_type": "slide"
    }
   },
   "source": [
    "![045.png](lec1.imgs/045.png)"
   ]
  },
  {
   "cell_type": "markdown",
   "id": "4d05ee9b",
   "metadata": {
    "slideshow": {
     "slide_type": "slide"
    }
   },
   "source": [
    "![046.png](lec1.imgs/046.png)"
   ]
  },
  {
   "cell_type": "markdown",
   "id": "a93bc618",
   "metadata": {
    "slideshow": {
     "slide_type": "slide"
    }
   },
   "source": [
    "![047.png](lec1.imgs/047.png)"
   ]
  },
  {
   "cell_type": "markdown",
   "id": "1495b15d",
   "metadata": {
    "slideshow": {
     "slide_type": "slide"
    }
   },
   "source": [
    "![048.png](lec1.imgs/048.png)"
   ]
  },
  {
   "cell_type": "markdown",
   "id": "b76cebee",
   "metadata": {
    "slideshow": {
     "slide_type": "slide"
    }
   },
   "source": [
    "![049.png](lec1.imgs/049.png)"
   ]
  },
  {
   "cell_type": "markdown",
   "id": "7966370f",
   "metadata": {
    "slideshow": {
     "slide_type": "slide"
    }
   },
   "source": [
    "![050.png](lec1.imgs/050.png)"
   ]
  },
  {
   "cell_type": "markdown",
   "id": "ea591fb2",
   "metadata": {
    "slideshow": {
     "slide_type": "slide"
    }
   },
   "source": [
    "![051.png](lec1.imgs/051.png)"
   ]
  },
  {
   "cell_type": "markdown",
   "id": "c1f7cd85",
   "metadata": {
    "slideshow": {
     "slide_type": "slide"
    }
   },
   "source": [
    "![052.png](lec1.imgs/052.png)"
   ]
  },
  {
   "cell_type": "markdown",
   "id": "6e48f421",
   "metadata": {
    "slideshow": {
     "slide_type": "slide"
    }
   },
   "source": [
    "![053.png](lec1.imgs/053.png)"
   ]
  }
 ],
 "metadata": {
  "kernelspec": {
   "display_name": "Bash",
   "language": "bash",
   "name": "bash"
  },
  "language_info": {
   "codemirror_mode": "shell",
   "file_extension": ".sh",
   "mimetype": "text/x-sh",
   "name": "bash"
  },
  "rise": {
   "enable_chalkboard": true,
   "scroll": false,
   "start_slideshow_at": "selected",
   "transition": "none"
  }
 },
 "nbformat": 4,
 "nbformat_minor": 5
}
