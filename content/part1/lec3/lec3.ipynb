{
 "cells": [
  {
   "cell_type": "markdown",
   "id": "b5c4d4ac",
   "metadata": {
    "editable": true,
    "slideshow": {
     "slide_type": "slide"
    },
    "tags": []
   },
   "source": [
    "![001.png](lec3.imgs/001.png)"
   ]
  },
  {
   "cell_type": "markdown",
   "id": "5e108fc4-9fed-4d43-bf19-3228fd4846e0",
   "metadata": {
    "editable": true,
    "slideshow": {
     "slide_type": "notes"
    },
    "tags": []
   },
   "source": [
    "Short intro\n",
    "get us started\n",
    "very basic -- simple programs\n",
    "next two will build on and introduce fancier features\n",
    "after that two lectures on optimization \n"
   ]
  },
  {
   "cell_type": "markdown",
   "id": "23129bc1",
   "metadata": {
    "editable": true,
    "slideshow": {
     "slide_type": "slide"
    },
    "tags": []
   },
   "source": [
    "![002.png](lec3.imgs/002.png)"
   ]
  },
  {
   "cell_type": "markdown",
   "id": "06d28b60-5a33-42e1-bec5-1bee0922d406",
   "metadata": {
    "editable": true,
    "slideshow": {
     "slide_type": "notes"
    },
    "tags": []
   },
   "source": [
    "remind you of GPU architecture\n",
    "GPU separate device\n",
    "your program will be composed of two parts\n",
    "1. CPU/Host\n",
    "2. GPU/Device\n",
    "\n",
    "GPU part broken down into \"blocks\" of threads that will be assigned to SM\n",
    "Once assigned will execute on that SM for its entirety\n",
    "\n",
    "Independent memories\n",
    "CPU memory \n",
    "GPU memory\n",
    "\n",
    "Your job is to prepare data on the CPU\n",
    "move to GPU \n",
    "operate on data \n",
    "move results back to CPU\n",
    "\n",
    "high-level overview of our task"
   ]
  },
  {
   "cell_type": "markdown",
   "id": "6d028976",
   "metadata": {
    "editable": true,
    "slideshow": {
     "slide_type": "slide"
    },
    "tags": []
   },
   "source": [
    "![003.png](lec3.imgs/003.png)"
   ]
  },
  {
   "cell_type": "markdown",
   "id": "cf37be87-5329-4a62-ac63-c867ad3cded2",
   "metadata": {
    "editable": true,
    "slideshow": {
     "slide_type": "notes"
    },
    "tags": []
   },
   "source": [
    "- fundamentally based on C/C++ extensions to do the task we discussed by invoking the runtime library\n",
    "- bindings to other languages, but CUDA is the native and will allow us to learn the most about how things work\n",
    "- I will require that you program in C for the assignments project. You can use anything you like\n",
    "- NVIDIA docs are good and the examples are good but at first might seem a little more complex\n",
    "- As always, lots on the net, but be aware and also given how fast things change, GenAI can have trouble\n",
    "- learning to write code and experiment is your best bet\n",
    "- Competition is hot with OpenCL still the primary \n",
    "- I am told OpenCL to CUDA is very easy\n",
    "- Our goal is to understand how things work, and CUDA maps very closely to the HW"
   ]
  },
  {
   "cell_type": "markdown",
   "id": "baeeb274-6643-4da9-ab91-a75241f3ff3a",
   "metadata": {
    "editable": true,
    "slideshow": {
     "slide_type": "slide"
    },
    "tags": []
   },
   "source": [
    "![004.png](lec3.imgs/004.png)"
   ]
  },
  {
   "cell_type": "markdown",
   "id": "4320bd80",
   "metadata": {
    "editable": true,
    "slideshow": {
     "slide_type": "notes"
    },
    "tags": []
   },
   "source": [
    "When we write out code there will always be two parts (in the same file)\n",
    "functions that we invoke from the CPU on the GPU are called kernels\n",
    "every time we invoke/launch a kernel it will spawn some number of threads\n",
    "you control both the number and how the are organized\n",
    "We must break up / organized our threads into \"Thread Blocks\" of no greater than 1024 threads per block\n",
    "the over all collection called a grid\n",
    "thread block is the fundamental unit by which work is assigned to a single SM (no migration)\n",
    "SM hardware will break threads into warps that can then execute in SIMD style (as discussed) on the SM's resources\n",
    "\n"
   ]
  },
  {
   "cell_type": "markdown",
   "id": "98393283-d41b-4adc-b810-87b50bde0db8",
   "metadata": {
    "editable": true,
    "slideshow": {
     "slide_type": "slide"
    },
    "tags": []
   },
   "source": [
    "![005.png](lec3.imgs/005.png)"
   ]
  },
  {
   "cell_type": "markdown",
   "id": "ae473135",
   "metadata": {
    "editable": true,
    "slideshow": {
     "slide_type": "notes"
    },
    "tags": []
   },
   "source": [
    "1. Both host and device code written in C -- can live in the same file!\n",
    "2. I think the simplicity of this choice and systems orientation part of CUDA's success\n",
    "3. provided library / API lets you control GPU execution and manage memory : malloc and free style\n",
    "4. intrinsic functions for syncronization and\n",
    "5. error handling\n",
    "we will look at examples of all of this\n",
    "\n",
    "There is a detailed CUDA reference manual in addition to the programmers guide\n",
    "\n",
    "Our job to decompose and our work into threads and get the GPU to solve it for us\n",
    "I can't stress enough that we need to have many more threads than cores \n"
   ]
  },
  {
   "cell_type": "markdown",
   "id": "2665a6e9-e749-4142-bd70-d7c185652d66",
   "metadata": {
    "editable": true,
    "slideshow": {
     "slide_type": "slide"
    },
    "tags": []
   },
   "source": [
    "![006.png](lec3.imgs/006.png)"
   ]
  },
  {
   "cell_type": "markdown",
   "id": "801c2469",
   "metadata": {
    "editable": true,
    "slideshow": {
     "slide_type": "notes"
    },
    "tags": []
   },
   "source": [
    "- slightly faulty but we will get into it.\n",
    "- Note no global infront of main --> host and our standard C runtime called entry point\n",
    "- note `.cu`\n",
    "- this code compiles with nvcc the cuda c/c++ compiler\n",
    "- and it executes and does exactly what we asked it to\n",
    "- no extra magic -- which is good\n",
    "- so what about our GPU kernel code"
   ]
  },
  {
   "cell_type": "markdown",
   "id": "506d9188",
   "metadata": {
    "editable": true,
    "slideshow": {
     "slide_type": "slide"
    },
    "tags": []
   },
   "source": [
    "![007.png](lec3.imgs/007.png)"
   ]
  },
  {
   "cell_type": "markdown",
   "id": "cbe56abf-e04c-459e-8127-6d52234d5835",
   "metadata": {
    "editable": true,
    "slideshow": {
     "slide_type": "notes"
    },
    "tags": []
   },
   "source": [
    "- quick overview of hybrid tool chain\n",
    "- CUDA GPU C code is first translated into something like JAVA Byte code or WEBASM to a device independent representation PTX\n",
    "- then translated into SASS for a specific device\n",
    "- all stuffed into a fat binary that the CUDA runtime can extract and load into the GPU as needed\n",
    "- fat binary can have multiple versions\n",
    "- details are in the manuals "
   ]
  },
  {
   "cell_type": "markdown",
   "id": "7d1e41c4-46b2-4723-8759-643c93984db0",
   "metadata": {
    "editable": true,
    "slideshow": {
     "slide_type": "slide"
    },
    "tags": []
   },
   "source": [
    "![008.png](lec3.imgs/008.png)"
   ]
  },
  {
   "cell_type": "markdown",
   "id": "6b10ee98-9628-477a-9d8e-7abc67adde14",
   "metadata": {
    "editable": true,
    "slideshow": {
     "slide_type": "notes"
    },
    "tags": []
   },
   "source": [
    "- we invoke/launch the kernel\n",
    "- looks very similar to invoking a normal function\n",
    "- but we need an execution configuration to specify the organization of our threads\n",
    "- one big difference to a normal function call is that a kernel invocation is ASYNC\n",
    "    - returns immediately\n",
    "    - work of starting the threads and running happens in parallel\n",
    "    - but host execution immediately proceeds\n",
    "- so this code again will compile and run\n",
    "- but"
   ]
  },
  {
   "cell_type": "markdown",
   "id": "bf8ae9d4",
   "metadata": {
    "editable": true,
    "slideshow": {
     "slide_type": "slide"
    },
    "tags": []
   },
   "source": [
    "![009.png](lec3.imgs/009.png)"
   ]
  },
  {
   "cell_type": "markdown",
   "id": "82a62375",
   "metadata": {
    "editable": true,
    "slideshow": {
     "slide_type": "slide"
    },
    "tags": []
   },
   "source": [
    "![010.png](lec3.imgs/010.png)"
   ]
  },
  {
   "cell_type": "markdown",
   "id": "7bd1b44d",
   "metadata": {
    "editable": true,
    "slideshow": {
     "slide_type": "slide"
    },
    "tags": []
   },
   "source": [
    "![011.png](lec3.imgs/011.png)"
   ]
  },
  {
   "cell_type": "markdown",
   "id": "02d7777d-d0c8-4933-adfc-1c360d90f6d5",
   "metadata": {
    "editable": true,
    "slideshow": {
     "slide_type": "notes"
    },
    "tags": []
   },
   "source": [
    "- In general whenever you compile a .cu you want to specify what types of PTX code and CUBIN you want to generate and leave in the fat binary\n",
    "- PTX has a version that can independently change -- Virtual Architecture\n",
    "- GPU real device changes with devices\n",
    "- NVIDIA defines what is called the compute capability and with each generation of devices they bump the number with both major and minor bumps "
   ]
  },
  {
   "cell_type": "markdown",
   "id": "b093f6fb",
   "metadata": {
    "editable": true,
    "slideshow": {
     "slide_type": "slide"
    },
    "tags": []
   },
   "source": [
    "![012.png](lec3.imgs/012.png)"
   ]
  },
  {
   "cell_type": "markdown",
   "id": "9e7ba23f-c8e3-47dc-825f-a0a5bc7e6e4d",
   "metadata": {
    "editable": true,
    "slideshow": {
     "slide_type": "notes"
    },
    "tags": []
   },
   "source": [
    "- this is what happens from a thread point of view\n",
    "- after invocation we can go on and do what ever we like on the CPU\n",
    "- GPU threads execute and can straggle in any way they like and of course execute in any order\n",
    "- sync blocks waiting for CUDA runtime to signal completion, all threads exit/terminate, of last launch"
   ]
  },
  {
   "cell_type": "markdown",
   "id": "59d818d4",
   "metadata": {
    "editable": true,
    "slideshow": {
     "slide_type": "slide"
    },
    "tags": []
   },
   "source": [
    "![013.png](lec3.imgs/013.png)"
   ]
  },
  {
   "cell_type": "markdown",
   "id": "88c41bc8-7b8f-4419-bc0d-1322778284bd",
   "metadata": {
    "editable": true,
    "slideshow": {
     "slide_type": "notes"
    },
    "tags": []
   },
   "source": [
    "- general structure of CUDA program\n",
    "- six basic steps\n",
    "- go over then\n",
    "- mention look from 5 to 2\n",
    "- lots of evolution to make repeated execution more efficient and flexible and to support multiple kernel execution "
   ]
  },
  {
   "cell_type": "markdown",
   "id": "c4a2f5d6",
   "metadata": {
    "editable": true,
    "slideshow": {
     "slide_type": "slide"
    },
    "tags": []
   },
   "source": [
    "![014.png](lec3.imgs/014.png)"
   ]
  },
  {
   "cell_type": "markdown",
   "id": "74ae0722-a8c6-4d1d-98c3-093b2578295e",
   "metadata": {
    "editable": true,
    "slideshow": {
     "slide_type": "notes"
    },
    "tags": []
   },
   "source": [
    "- so lets tackle these in order\n",
    "- CUDA strives hard to not break our C mental model\n",
    "- eg. malloc becomes cudaMalloc\n",
    "- but call structure modified a little for better error handling\n",
    "- big thing is that CUDAmalloc returns a device address!\n",
    "- still just a number but is only valid on the device\n",
    "- CUDA free takes an address returned by CUDA malloc and does what you expect\n",
    "- our course this is C so you must be organized and take responsibility for the mistakes you will make ;-)\n",
    "  "
   ]
  },
  {
   "cell_type": "markdown",
   "id": "c1289aa5",
   "metadata": {
    "editable": true,
    "slideshow": {
     "slide_type": "slide"
    },
    "tags": []
   },
   "source": [
    "![015.png](lec3.imgs/015.png)"
   ]
  },
  {
   "cell_type": "markdown",
   "id": "4872d095-d81c-4050-8b05-f7cb5d092d07",
   "metadata": {
    "editable": true,
    "slideshow": {
     "slide_type": "notes"
    },
    "tags": []
   },
   "source": [
    "- dest, src\n",
    "- your jobs is to ensure the correct type of addresses\n",
    "- and to correctly specify direction\n",
    "- First and second are all that we will focus on\n",
    "- Third, let's do fancier device memory management. But I don't know the efficiency\n",
    "- last one is not that interesting"
   ]
  },
  {
   "cell_type": "markdown",
   "id": "43ed9229",
   "metadata": {
    "editable": true,
    "slideshow": {
     "slide_type": "slide"
    },
    "tags": []
   },
   "source": [
    "![016.png](lec3.imgs/016.png)"
   ]
  },
  {
   "cell_type": "markdown",
   "id": "1a227b0d",
   "metadata": {
    "slideshow": {
     "slide_type": "slide"
    }
   },
   "source": [
    "![017.png](lec3.imgs/017.png)"
   ]
  },
  {
   "cell_type": "markdown",
   "id": "4a4bae68",
   "metadata": {
    "editable": true,
    "slideshow": {
     "slide_type": "slide"
    },
    "tags": []
   },
   "source": [
    "![018.png](lec3.imgs/018.png)"
   ]
  },
  {
   "cell_type": "markdown",
   "id": "31169c5b-24b6-4e7c-9c3e-9c5c8fe892d4",
   "metadata": {
    "editable": true,
    "slideshow": {
     "slide_type": "notes"
    },
    "tags": []
   },
   "source": [
    "- CUDA exposes the hardware to the programmer\n",
    "- our job is to break down our task into threads and organize them in a way to efficiently use the hardware and its features\n",
    "- we aren't going to focus on optimizations right now "
   ]
  },
  {
   "cell_type": "markdown",
   "id": "0118318f",
   "metadata": {
    "editable": true,
    "slideshow": {
     "slide_type": "slide"
    },
    "tags": []
   },
   "source": [
    "![019.png](lec3.imgs/019.png)"
   ]
  },
  {
   "cell_type": "markdown",
   "id": "64205bc3-f0c9-4b8a-80fc-d529be65952f",
   "metadata": {
    "editable": true,
    "slideshow": {
     "slide_type": "notes"
    },
    "tags": []
   },
   "source": [
    "- mental shift\n",
    "- massive number of threads\n",
    "- so look for loops and trying launching each iteration is a reasonable first step\n",
    "- this is a little hard to get you head around at first\n",
    "- but remember SIMD under the hood\n",
    "- later we will want to perhaps unroll and be fancier "
   ]
  },
  {
   "cell_type": "markdown",
   "id": "972fdaf6",
   "metadata": {
    "editable": true,
    "slideshow": {
     "slide_type": "slide"
    },
    "tags": []
   },
   "source": [
    "![020.png](lec3.imgs/020.png)"
   ]
  },
  {
   "cell_type": "markdown",
   "id": "ab9d380d-f91f-40da-9d17-84f8a2463781",
   "metadata": {
    "editable": true,
    "slideshow": {
     "slide_type": "notes"
    },
    "tags": []
   },
   "source": [
    "- common and most natural approach is to start from a data perspective\n",
    "- look for array's, matrices and tensors\n",
    "- think of threads working on some region\n",
    "- again it is reasonable even to assign a thread per element"
   ]
  },
  {
   "cell_type": "markdown",
   "id": "674336d9",
   "metadata": {
    "editable": true,
    "slideshow": {
     "slide_type": "slide"
    },
    "tags": []
   },
   "source": [
    "![021.png](lec3.imgs/021.png)"
   ]
  },
  {
   "cell_type": "markdown",
   "id": "f1a66a30-183d-4c31-b8fc-c115ec3ea84e",
   "metadata": {
    "editable": true,
    "slideshow": {
     "slide_type": ""
    },
    "tags": []
   },
   "source": [
    "- lets think about a simple array example\n",
    "- 512 not really worth a gpu but lets walk it rhough\n",
    "- 4 blocks of 128\n",
    "- 512 threads\n",
    "- the blocks can now get assigned to different SMs"
   ]
  },
  {
   "cell_type": "markdown",
   "id": "acb75318",
   "metadata": {
    "editable": true,
    "slideshow": {
     "slide_type": "slide"
    },
    "tags": []
   },
   "source": [
    "![022.png](lec3.imgs/022.png)"
   ]
  },
  {
   "cell_type": "markdown",
   "id": "21fada49",
   "metadata": {
    "editable": true,
    "slideshow": {
     "slide_type": "slide"
    },
    "tags": []
   },
   "source": [
    "![023.png](lec3.imgs/023.png)"
   ]
  },
  {
   "cell_type": "markdown",
   "id": "f3669ea5-a175-4c77-8f53-edd2b8f6100f",
   "metadata": {
    "editable": true,
    "slideshow": {
     "slide_type": "notes"
    },
    "tags": []
   },
   "source": [
    "- discuss resource constraints\n"
   ]
  },
  {
   "cell_type": "markdown",
   "id": "4ddd6803",
   "metadata": {
    "editable": true,
    "slideshow": {
     "slide_type": "slide"
    },
    "tags": []
   },
   "source": [
    "![024.png](lec3.imgs/024.png)"
   ]
  },
  {
   "cell_type": "markdown",
   "id": "16a0250f",
   "metadata": {
    "slideshow": {
     "slide_type": "slide"
    }
   },
   "source": [
    "![025.png](lec3.imgs/025.png)"
   ]
  },
  {
   "cell_type": "markdown",
   "id": "9fc91644",
   "metadata": {
    "slideshow": {
     "slide_type": "slide"
    }
   },
   "source": [
    "![026.png](lec3.imgs/026.png)"
   ]
  },
  {
   "cell_type": "markdown",
   "id": "018242fb",
   "metadata": {
    "slideshow": {
     "slide_type": "slide"
    }
   },
   "source": [
    "![027.png](lec3.imgs/027.png)"
   ]
  },
  {
   "cell_type": "markdown",
   "id": "e4ea1f8b",
   "metadata": {
    "slideshow": {
     "slide_type": "slide"
    }
   },
   "source": [
    "![028.png](lec3.imgs/028.png)"
   ]
  },
  {
   "cell_type": "markdown",
   "id": "388d5247",
   "metadata": {
    "slideshow": {
     "slide_type": "slide"
    }
   },
   "source": [
    "![029.png](lec3.imgs/029.png)"
   ]
  },
  {
   "cell_type": "markdown",
   "id": "762f0dc9",
   "metadata": {
    "slideshow": {
     "slide_type": "slide"
    }
   },
   "source": [
    "![030.png](lec3.imgs/030.png)"
   ]
  },
  {
   "cell_type": "markdown",
   "id": "ff58c800",
   "metadata": {
    "slideshow": {
     "slide_type": "slide"
    }
   },
   "source": [
    "![031.png](lec3.imgs/031.png)"
   ]
  },
  {
   "cell_type": "markdown",
   "id": "6551d806",
   "metadata": {
    "slideshow": {
     "slide_type": "slide"
    }
   },
   "source": [
    "![032.png](lec3.imgs/032.png)"
   ]
  },
  {
   "cell_type": "markdown",
   "id": "f0fe0d39",
   "metadata": {
    "slideshow": {
     "slide_type": "slide"
    }
   },
   "source": [
    "![033.png](lec3.imgs/033.png)"
   ]
  },
  {
   "cell_type": "markdown",
   "id": "5811e379",
   "metadata": {
    "slideshow": {
     "slide_type": "slide"
    }
   },
   "source": [
    "![034.png](lec3.imgs/034.png)"
   ]
  },
  {
   "cell_type": "markdown",
   "id": "6c604eaa",
   "metadata": {
    "slideshow": {
     "slide_type": "slide"
    }
   },
   "source": [
    "![035.png](lec3.imgs/035.png)"
   ]
  },
  {
   "cell_type": "markdown",
   "id": "05efb10e",
   "metadata": {
    "slideshow": {
     "slide_type": "slide"
    }
   },
   "source": [
    "![036.png](lec3.imgs/036.png)"
   ]
  },
  {
   "cell_type": "markdown",
   "id": "5f293394",
   "metadata": {
    "slideshow": {
     "slide_type": "slide"
    }
   },
   "source": [
    "![037.png](lec3.imgs/037.png)"
   ]
  },
  {
   "cell_type": "markdown",
   "id": "62a9aca9",
   "metadata": {
    "slideshow": {
     "slide_type": "slide"
    }
   },
   "source": [
    "![038.png](lec3.imgs/038.png)"
   ]
  },
  {
   "cell_type": "markdown",
   "id": "b8d07bf7",
   "metadata": {
    "slideshow": {
     "slide_type": "slide"
    }
   },
   "source": [
    "![039.png](lec3.imgs/039.png)"
   ]
  },
  {
   "cell_type": "markdown",
   "id": "d69e5cb5",
   "metadata": {
    "slideshow": {
     "slide_type": "slide"
    }
   },
   "source": [
    "![040.png](lec3.imgs/040.png)"
   ]
  },
  {
   "cell_type": "markdown",
   "id": "7bdf8e23",
   "metadata": {
    "slideshow": {
     "slide_type": "slide"
    }
   },
   "source": [
    "![041.png](lec3.imgs/041.png)"
   ]
  }
 ],
 "metadata": {
  "kernelspec": {
   "display_name": "Bash",
   "language": "bash",
   "name": "bash"
  },
  "language_info": {
   "codemirror_mode": "shell",
   "file_extension": ".sh",
   "mimetype": "text/x-sh",
   "name": "bash"
  },
  "rise": {
   "enable_chalkboard": true,
   "scroll": false,
   "start_slideshow_at": "selected",
   "transition": "none"
  }
 },
 "nbformat": 4,
 "nbformat_minor": 5
}
