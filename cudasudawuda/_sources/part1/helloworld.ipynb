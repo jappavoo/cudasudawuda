{
 "cells": [
  {
   "cell_type": "markdown",
   "id": "da0ee139-7cd2-4870-abfe-5df71baffb7f",
   "metadata": {},
   "source": [
    "# Hello World\n",
    "\n",
    "This an example of a section within a chapter\n"
   ]
  },
  {
   "cell_type": "code",
   "execution_count": null,
   "id": "a1745c9f-9493-408e-9867-0e1db0a7d68d",
   "metadata": {},
   "outputs": [],
   "source": []
  }
 ],
 "metadata": {
  "kernelspec": {
   "display_name": "Python 3 (ipykernel)",
   "language": "python",
   "name": "python3"
  },
  "language_info": {
   "codemirror_mode": {
    "name": "ipython",
    "version": 3
   },
   "file_extension": ".py",
   "mimetype": "text/x-python",
   "name": "python",
   "nbconvert_exporter": "python",
   "pygments_lexer": "ipython3",
   "version": "3.9.9"
  }
 },
 "nbformat": 4,
 "nbformat_minor": 5
}
